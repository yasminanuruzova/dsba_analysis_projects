{
 "cells": [
  {
   "cell_type": "code",
   "execution_count": 43,
   "id": "7fa23b37-5f56-4863-be7c-4c2b375257bb",
   "metadata": {},
   "outputs": [],
   "source": [
    "# все нужные библиотеки\n",
    "# можете дополнить список если считаете нужным\n",
    "import numpy as np\n",
    "import pandas as pd\n",
    "\n",
    "from sklearn.model_selection import train_test_split\n",
    "from sklearn.model_selection import GridSearchCV\n",
    "\n",
    "from sklearn.preprocessing import MinMaxScaler\n",
    "from sklearn.preprocessing import StandardScaler\n",
    "from sklearn.preprocessing import OneHotEncoder\n",
    "\n",
    "from sklearn.metrics import accuracy_score\n",
    "from sklearn.metrics import mean_squared_error as MSE\n",
    "from sklearn.metrics import classification_report\n",
    "from sklearn.metrics import confusion_matrix\n",
    "\n",
    "from sklearn.linear_model import LogisticRegression\n",
    "from sklearn.linear_model import LinearRegression\n",
    "from statsmodels.regression.linear_model import OLS\n",
    "\n",
    "from sklearn.decomposition import PCA\n",
    "from sklearn.svm import SVC\n",
    "from sklearn.neighbors import KNeighborsClassifier\n",
    "\n",
    "from sklearn.tree import DecisionTreeClassifier\n",
    "from sklearn.ensemble import RandomForestClassifier\n",
    "from sklearn.ensemble import AdaBoostClassifier\n",
    "from sklearn.ensemble import GradientBoostingClassifier\n",
    "from lightgbm import LGBMClassifier\n",
    "import xgboost as xgb\n",
    "\n",
    "import plotly.graph_objs as go\n",
    "import matplotlib.pyplot as plt\n",
    "import seaborn as sns\n"
   ]
  },
  {
   "cell_type": "markdown",
   "id": "989fa8d0-5220-4c98-856f-52a3d6723902",
   "metadata": {},
   "source": [
    "### Проект:\n",
    "Заказчик передал вам данные: суммы транзакции клиентов и какие-то признаки<br>\n",
    "Все данные хранятся в файле train_dataset.csv, где суммы транзакций размещены под колонкой \"int_target\". Как вы уже догадались это и будет таргет который нам нужно будет предсказать.<br>\n",
    "Не терпится начать? Мне тоже, но для начала вводная касательно этого проекта, тоже будет интересно."
   ]
  },
  {
   "cell_type": "markdown",
   "id": "ec659810-db58-4dd8-bed4-81cbb1106f18",
   "metadata": {},
   "source": [
    "Хотя перед вами стоит одна задача весь проект будет поделён на несколько подпунктов для вашего удобства.<br>\n",
    "Каждый из подпунктов будет просить вас выполнить какое-то задание, но как вы его выполните будет зависеть только от вас. Ведь как вы уже\n",
    "убедились в дата-саинсе, да и в целом питоне много разных подходов для одной проблемы.<br>\n",
    "\n",
    "В целом вы можете написать полностью свой код, главное в итоге построить модель. А убедиться в том что ваша модель хороша нам поможет Kaggle.<br>\n",
    "Да-да, в этом проекте вы сможете сдать свои результаты в Kaggle и получить свой балл.<br>\n",
    "Ну, а теперь пора начинать"
   ]
  },
  {
   "cell_type": "markdown",
   "id": "08826869",
   "metadata": {},
   "source": [
    "1) Для начала импортируйте данные из файла dataset.csv, назовите ваш датасет \"dataset\""
   ]
  },
  {
   "cell_type": "code",
   "execution_count": 44,
   "id": "96fa8eab-d100-48f3-b6c0-001d091149fc",
   "metadata": {},
   "outputs": [],
   "source": [
    "dataset = pd.read_csv('train_dataset.csv')"
   ]
  },
  {
   "cell_type": "code",
   "execution_count": null,
   "id": "f128ad39-d167-4f75-8bbd-3c605c3a6c8f",
   "metadata": {},
   "outputs": [],
   "source": []
  },
  {
   "cell_type": "code",
   "execution_count": null,
   "id": "95c102e5-ad56-4c90-9a8a-0c38c1805f04",
   "metadata": {},
   "outputs": [],
   "source": []
  },
  {
   "cell_type": "markdown",
   "id": "32b58771-f9c4-4abd-ba14-a6067c33c467",
   "metadata": {},
   "source": [
    "2. Сделайте предварительный анализ посмотрите на ваши данные:\n",
    "сколько их, какого они типа, и какое их примерно распределение"
   ]
  },
  {
   "cell_type": "code",
   "execution_count": 45,
   "id": "eb539021-121d-4ba7-9261-5064a2245092",
   "metadata": {},
   "outputs": [
    {
     "name": "stdout",
     "output_type": "stream",
     "text": [
      "<class 'pandas.core.frame.DataFrame'>\n",
      "RangeIndex: 9000 entries, 0 to 8999\n",
      "Data columns (total 21 columns):\n",
      " #   Column      Non-Null Count  Dtype  \n",
      "---  ------      --------------  -----  \n",
      " 0   feature_1   9000 non-null   float64\n",
      " 1   feature_2   9000 non-null   float64\n",
      " 2   feature_3   9000 non-null   float64\n",
      " 3   feature_4   9000 non-null   float64\n",
      " 4   feature_5   9000 non-null   float64\n",
      " 5   feature_6   9000 non-null   float64\n",
      " 6   feature_7   9000 non-null   float64\n",
      " 7   feature_8   9000 non-null   float64\n",
      " 8   feature_9   9000 non-null   float64\n",
      " 9   feature_10  9000 non-null   float64\n",
      " 10  feature_11  9000 non-null   float64\n",
      " 11  feature_12  9000 non-null   object \n",
      " 12  feature_13  9000 non-null   float64\n",
      " 13  feature_14  9000 non-null   float64\n",
      " 14  feature_15  9000 non-null   float64\n",
      " 15  feature_16  9000 non-null   float64\n",
      " 16  feature_17  9000 non-null   float64\n",
      " 17  feature_18  9000 non-null   float64\n",
      " 18  feature_19  9000 non-null   float64\n",
      " 19  feature_20  9000 non-null   float64\n",
      " 20  int_target  9000 non-null   int64  \n",
      "dtypes: float64(19), int64(1), object(1)\n",
      "memory usage: 1.4+ MB\n",
      "None\n"
     ]
    }
   ],
   "source": [
    "print(dataset.info())"
   ]
  },
  {
   "cell_type": "code",
   "execution_count": 46,
   "id": "2c53340b",
   "metadata": {},
   "outputs": [
    {
     "data": {
      "text/html": [
       "<div>\n",
       "<style scoped>\n",
       "    .dataframe tbody tr th:only-of-type {\n",
       "        vertical-align: middle;\n",
       "    }\n",
       "\n",
       "    .dataframe tbody tr th {\n",
       "        vertical-align: top;\n",
       "    }\n",
       "\n",
       "    .dataframe thead th {\n",
       "        text-align: right;\n",
       "    }\n",
       "</style>\n",
       "<table border=\"1\" class=\"dataframe\">\n",
       "  <thead>\n",
       "    <tr style=\"text-align: right;\">\n",
       "      <th></th>\n",
       "      <th>feature_1</th>\n",
       "      <th>feature_2</th>\n",
       "      <th>feature_3</th>\n",
       "      <th>feature_4</th>\n",
       "      <th>feature_5</th>\n",
       "      <th>feature_6</th>\n",
       "      <th>feature_7</th>\n",
       "      <th>feature_8</th>\n",
       "      <th>feature_9</th>\n",
       "      <th>feature_10</th>\n",
       "      <th>feature_11</th>\n",
       "      <th>feature_13</th>\n",
       "      <th>feature_14</th>\n",
       "      <th>feature_15</th>\n",
       "      <th>feature_16</th>\n",
       "      <th>feature_17</th>\n",
       "      <th>feature_18</th>\n",
       "      <th>feature_19</th>\n",
       "      <th>feature_20</th>\n",
       "      <th>int_target</th>\n",
       "    </tr>\n",
       "  </thead>\n",
       "  <tbody>\n",
       "    <tr>\n",
       "      <th>count</th>\n",
       "      <td>9000.000000</td>\n",
       "      <td>9000.000000</td>\n",
       "      <td>9000.000000</td>\n",
       "      <td>9000.000000</td>\n",
       "      <td>9000.000000</td>\n",
       "      <td>9000.000000</td>\n",
       "      <td>9000.000000</td>\n",
       "      <td>9000.000000</td>\n",
       "      <td>9000.000000</td>\n",
       "      <td>9000.000000</td>\n",
       "      <td>9000.000000</td>\n",
       "      <td>9000.000000</td>\n",
       "      <td>9000.000000</td>\n",
       "      <td>9000.000000</td>\n",
       "      <td>9000.000000</td>\n",
       "      <td>9000.000000</td>\n",
       "      <td>9000.000000</td>\n",
       "      <td>9000.000000</td>\n",
       "      <td>9000.000000</td>\n",
       "      <td>9000.000000</td>\n",
       "    </tr>\n",
       "    <tr>\n",
       "      <th>mean</th>\n",
       "      <td>9.892699</td>\n",
       "      <td>0.051539</td>\n",
       "      <td>13.691801</td>\n",
       "      <td>-5.280291</td>\n",
       "      <td>-0.190470</td>\n",
       "      <td>33.328407</td>\n",
       "      <td>353.997548</td>\n",
       "      <td>0.322612</td>\n",
       "      <td>-69.936887</td>\n",
       "      <td>-0.334325</td>\n",
       "      <td>0.328602</td>\n",
       "      <td>99.738087</td>\n",
       "      <td>99.862703</td>\n",
       "      <td>99.764452</td>\n",
       "      <td>99.958384</td>\n",
       "      <td>100.053203</td>\n",
       "      <td>100.209235</td>\n",
       "      <td>100.150711</td>\n",
       "      <td>99.819907</td>\n",
       "      <td>14962.016000</td>\n",
       "    </tr>\n",
       "    <tr>\n",
       "      <th>std</th>\n",
       "      <td>16.005016</td>\n",
       "      <td>0.708241</td>\n",
       "      <td>77.058634</td>\n",
       "      <td>26.814772</td>\n",
       "      <td>0.966878</td>\n",
       "      <td>193.282240</td>\n",
       "      <td>482.976481</td>\n",
       "      <td>1.928390</td>\n",
       "      <td>130.805512</td>\n",
       "      <td>1.802465</td>\n",
       "      <td>1.949699</td>\n",
       "      <td>19.970516</td>\n",
       "      <td>20.059934</td>\n",
       "      <td>19.816391</td>\n",
       "      <td>20.073887</td>\n",
       "      <td>20.005191</td>\n",
       "      <td>19.839667</td>\n",
       "      <td>20.084744</td>\n",
       "      <td>20.072153</td>\n",
       "      <td>8507.039575</td>\n",
       "    </tr>\n",
       "    <tr>\n",
       "      <th>min</th>\n",
       "      <td>-55.674815</td>\n",
       "      <td>-1.000000</td>\n",
       "      <td>0.002306</td>\n",
       "      <td>-90.266818</td>\n",
       "      <td>-1.000000</td>\n",
       "      <td>-782.730110</td>\n",
       "      <td>0.000032</td>\n",
       "      <td>-8.785694</td>\n",
       "      <td>-562.750841</td>\n",
       "      <td>-6.678488</td>\n",
       "      <td>-6.817115</td>\n",
       "      <td>23.296434</td>\n",
       "      <td>21.404151</td>\n",
       "      <td>20.462943</td>\n",
       "      <td>31.695377</td>\n",
       "      <td>25.278459</td>\n",
       "      <td>6.108243</td>\n",
       "      <td>29.523073</td>\n",
       "      <td>28.591199</td>\n",
       "      <td>501.000000</td>\n",
       "    </tr>\n",
       "    <tr>\n",
       "      <th>25%</th>\n",
       "      <td>-0.590266</td>\n",
       "      <td>-0.652740</td>\n",
       "      <td>0.891789</td>\n",
       "      <td>-24.131903</td>\n",
       "      <td>-1.000000</td>\n",
       "      <td>-88.607265</td>\n",
       "      <td>38.261808</td>\n",
       "      <td>-0.867972</td>\n",
       "      <td>-155.988559</td>\n",
       "      <td>-1.569338</td>\n",
       "      <td>-0.997933</td>\n",
       "      <td>86.416262</td>\n",
       "      <td>86.377084</td>\n",
       "      <td>86.184816</td>\n",
       "      <td>86.146061</td>\n",
       "      <td>86.513425</td>\n",
       "      <td>86.753705</td>\n",
       "      <td>86.684625</td>\n",
       "      <td>86.163540</td>\n",
       "      <td>7461.750000</td>\n",
       "    </tr>\n",
       "    <tr>\n",
       "      <th>50%</th>\n",
       "      <td>10.032527</td>\n",
       "      <td>0.108589</td>\n",
       "      <td>2.771781</td>\n",
       "      <td>-6.535842</td>\n",
       "      <td>-0.999996</td>\n",
       "      <td>47.154805</td>\n",
       "      <td>169.202144</td>\n",
       "      <td>0.454511</td>\n",
       "      <td>-80.249681</td>\n",
       "      <td>-0.374527</td>\n",
       "      <td>0.361400</td>\n",
       "      <td>99.753333</td>\n",
       "      <td>99.914720</td>\n",
       "      <td>99.938163</td>\n",
       "      <td>99.956294</td>\n",
       "      <td>99.644334</td>\n",
       "      <td>100.166669</td>\n",
       "      <td>100.179503</td>\n",
       "      <td>99.942090</td>\n",
       "      <td>14878.500000</td>\n",
       "    </tr>\n",
       "    <tr>\n",
       "      <th>75%</th>\n",
       "      <td>20.577624</td>\n",
       "      <td>0.750147</td>\n",
       "      <td>8.313018</td>\n",
       "      <td>12.151035</td>\n",
       "      <td>1.000000</td>\n",
       "      <td>165.882796</td>\n",
       "      <td>476.800547</td>\n",
       "      <td>1.636826</td>\n",
       "      <td>10.046369</td>\n",
       "      <td>0.874218</td>\n",
       "      <td>1.690059</td>\n",
       "      <td>113.192601</td>\n",
       "      <td>113.550065</td>\n",
       "      <td>113.274773</td>\n",
       "      <td>113.503300</td>\n",
       "      <td>113.486201</td>\n",
       "      <td>113.389489</td>\n",
       "      <td>113.657307</td>\n",
       "      <td>113.275163</td>\n",
       "      <td>22404.000000</td>\n",
       "    </tr>\n",
       "    <tr>\n",
       "      <th>max</th>\n",
       "      <td>71.408515</td>\n",
       "      <td>1.000000</td>\n",
       "      <td>4195.458665</td>\n",
       "      <td>96.967006</td>\n",
       "      <td>1.000000</td>\n",
       "      <td>689.183091</td>\n",
       "      <td>5099.175987</td>\n",
       "      <td>7.563691</td>\n",
       "      <td>454.622574</td>\n",
       "      <td>6.605742</td>\n",
       "      <td>7.314190</td>\n",
       "      <td>169.972815</td>\n",
       "      <td>169.211534</td>\n",
       "      <td>176.896232</td>\n",
       "      <td>180.756967</td>\n",
       "      <td>182.022092</td>\n",
       "      <td>173.917343</td>\n",
       "      <td>171.521586</td>\n",
       "      <td>178.220128</td>\n",
       "      <td>29631.000000</td>\n",
       "    </tr>\n",
       "  </tbody>\n",
       "</table>\n",
       "</div>"
      ],
      "text/plain": [
       "         feature_1    feature_2    feature_3    feature_4    feature_5  \\\n",
       "count  9000.000000  9000.000000  9000.000000  9000.000000  9000.000000   \n",
       "mean      9.892699     0.051539    13.691801    -5.280291    -0.190470   \n",
       "std      16.005016     0.708241    77.058634    26.814772     0.966878   \n",
       "min     -55.674815    -1.000000     0.002306   -90.266818    -1.000000   \n",
       "25%      -0.590266    -0.652740     0.891789   -24.131903    -1.000000   \n",
       "50%      10.032527     0.108589     2.771781    -6.535842    -0.999996   \n",
       "75%      20.577624     0.750147     8.313018    12.151035     1.000000   \n",
       "max      71.408515     1.000000  4195.458665    96.967006     1.000000   \n",
       "\n",
       "         feature_6    feature_7    feature_8    feature_9   feature_10  \\\n",
       "count  9000.000000  9000.000000  9000.000000  9000.000000  9000.000000   \n",
       "mean     33.328407   353.997548     0.322612   -69.936887    -0.334325   \n",
       "std     193.282240   482.976481     1.928390   130.805512     1.802465   \n",
       "min    -782.730110     0.000032    -8.785694  -562.750841    -6.678488   \n",
       "25%     -88.607265    38.261808    -0.867972  -155.988559    -1.569338   \n",
       "50%      47.154805   169.202144     0.454511   -80.249681    -0.374527   \n",
       "75%     165.882796   476.800547     1.636826    10.046369     0.874218   \n",
       "max     689.183091  5099.175987     7.563691   454.622574     6.605742   \n",
       "\n",
       "        feature_11   feature_13   feature_14   feature_15   feature_16  \\\n",
       "count  9000.000000  9000.000000  9000.000000  9000.000000  9000.000000   \n",
       "mean      0.328602    99.738087    99.862703    99.764452    99.958384   \n",
       "std       1.949699    19.970516    20.059934    19.816391    20.073887   \n",
       "min      -6.817115    23.296434    21.404151    20.462943    31.695377   \n",
       "25%      -0.997933    86.416262    86.377084    86.184816    86.146061   \n",
       "50%       0.361400    99.753333    99.914720    99.938163    99.956294   \n",
       "75%       1.690059   113.192601   113.550065   113.274773   113.503300   \n",
       "max       7.314190   169.972815   169.211534   176.896232   180.756967   \n",
       "\n",
       "        feature_17   feature_18   feature_19   feature_20    int_target  \n",
       "count  9000.000000  9000.000000  9000.000000  9000.000000   9000.000000  \n",
       "mean    100.053203   100.209235   100.150711    99.819907  14962.016000  \n",
       "std      20.005191    19.839667    20.084744    20.072153   8507.039575  \n",
       "min      25.278459     6.108243    29.523073    28.591199    501.000000  \n",
       "25%      86.513425    86.753705    86.684625    86.163540   7461.750000  \n",
       "50%      99.644334   100.166669   100.179503    99.942090  14878.500000  \n",
       "75%     113.486201   113.389489   113.657307   113.275163  22404.000000  \n",
       "max     182.022092   173.917343   171.521586   178.220128  29631.000000  "
      ]
     },
     "execution_count": 46,
     "metadata": {},
     "output_type": "execute_result"
    }
   ],
   "source": [
    "dataset.describe()"
   ]
  },
  {
   "cell_type": "code",
   "execution_count": 47,
   "id": "c53e585c-f8ea-4d89-a054-7dc8783376bb",
   "metadata": {},
   "outputs": [
    {
     "name": "stdout",
     "output_type": "stream",
     "text": [
      "int_target\n",
      "9993     4\n",
      "14639    4\n",
      "15784    4\n",
      "4015     4\n",
      "18511    4\n",
      "        ..\n",
      "27943    1\n",
      "7348     1\n",
      "12983    1\n",
      "7528     1\n",
      "11100    1\n",
      "Name: count, Length: 7738, dtype: int64\n"
     ]
    }
   ],
   "source": [
    "print(dataset['int_target'].value_counts())"
   ]
  },
  {
   "cell_type": "markdown",
   "id": "24f19134-e190-4d07-a9ba-eb2b4bf2d318",
   "metadata": {},
   "source": [
    "3. Разделите ваш датасет на таргет и признаки, а также поделите ваш датасет на тренировочный и тестовый"
   ]
  },
  {
   "cell_type": "code",
   "execution_count": 48,
   "id": "a36bb9ff-ebd0-43d6-a69f-d91b505b237e",
   "metadata": {},
   "outputs": [],
   "source": [
    "X = dataset.drop(columns=['int_target'])  \n",
    "y = dataset['int_target']  "
   ]
  },
  {
   "cell_type": "markdown",
   "id": "8d83deac-a0ee-4d7d-9787-00d2a18283c6",
   "metadata": {},
   "source": [
    "4. Надеюсь вы заметили что у вас есть категориальный признак который имеет текстовый формат.<br>\n",
    "Переведите этот признак в числовое значение"
   ]
  },
  {
   "cell_type": "code",
   "execution_count": 49,
   "id": "d4fba379-75bc-4261-b7da-319dffb9d090",
   "metadata": {},
   "outputs": [],
   "source": [
    "X_encoded = pd.get_dummies(X, columns=['feature_12'])\n",
    "X_train, X_test, y_train, y_test = train_test_split(X_encoded, y, test_size=0.3, random_state=105)"
   ]
  },
  {
   "cell_type": "code",
   "execution_count": 50,
   "id": "1de18464",
   "metadata": {},
   "outputs": [
    {
     "data": {
      "text/html": [
       "<div>\n",
       "<style scoped>\n",
       "    .dataframe tbody tr th:only-of-type {\n",
       "        vertical-align: middle;\n",
       "    }\n",
       "\n",
       "    .dataframe tbody tr th {\n",
       "        vertical-align: top;\n",
       "    }\n",
       "\n",
       "    .dataframe thead th {\n",
       "        text-align: right;\n",
       "    }\n",
       "</style>\n",
       "<table border=\"1\" class=\"dataframe\">\n",
       "  <thead>\n",
       "    <tr style=\"text-align: right;\">\n",
       "      <th></th>\n",
       "      <th>feature_1</th>\n",
       "      <th>feature_2</th>\n",
       "      <th>feature_3</th>\n",
       "      <th>feature_4</th>\n",
       "      <th>feature_5</th>\n",
       "      <th>feature_6</th>\n",
       "      <th>feature_7</th>\n",
       "      <th>feature_8</th>\n",
       "      <th>feature_9</th>\n",
       "      <th>feature_10</th>\n",
       "      <th>...</th>\n",
       "      <th>feature_15</th>\n",
       "      <th>feature_16</th>\n",
       "      <th>feature_17</th>\n",
       "      <th>feature_18</th>\n",
       "      <th>feature_19</th>\n",
       "      <th>feature_20</th>\n",
       "      <th>feature_12_A</th>\n",
       "      <th>feature_12_B</th>\n",
       "      <th>feature_12_C</th>\n",
       "      <th>feature_12_D</th>\n",
       "    </tr>\n",
       "  </thead>\n",
       "  <tbody>\n",
       "    <tr>\n",
       "      <th>0</th>\n",
       "      <td>-0.043457</td>\n",
       "      <td>-0.027918</td>\n",
       "      <td>1.473594</td>\n",
       "      <td>-10.309556</td>\n",
       "      <td>-1.000000</td>\n",
       "      <td>145.373247</td>\n",
       "      <td>0.001888</td>\n",
       "      <td>2.555947</td>\n",
       "      <td>-64.208613</td>\n",
       "      <td>0.470329</td>\n",
       "      <td>...</td>\n",
       "      <td>120.550153</td>\n",
       "      <td>59.736520</td>\n",
       "      <td>64.325558</td>\n",
       "      <td>107.833753</td>\n",
       "      <td>85.853573</td>\n",
       "      <td>104.466108</td>\n",
       "      <td>False</td>\n",
       "      <td>True</td>\n",
       "      <td>False</td>\n",
       "      <td>False</td>\n",
       "    </tr>\n",
       "    <tr>\n",
       "      <th>1</th>\n",
       "      <td>-1.535978</td>\n",
       "      <td>0.999851</td>\n",
       "      <td>23.019753</td>\n",
       "      <td>38.430092</td>\n",
       "      <td>1.000000</td>\n",
       "      <td>-110.045207</td>\n",
       "      <td>2.359228</td>\n",
       "      <td>0.571917</td>\n",
       "      <td>-110.318854</td>\n",
       "      <td>-2.620978</td>\n",
       "      <td>...</td>\n",
       "      <td>68.505986</td>\n",
       "      <td>116.330797</td>\n",
       "      <td>75.365722</td>\n",
       "      <td>104.229006</td>\n",
       "      <td>90.842232</td>\n",
       "      <td>95.232654</td>\n",
       "      <td>False</td>\n",
       "      <td>False</td>\n",
       "      <td>False</td>\n",
       "      <td>True</td>\n",
       "    </tr>\n",
       "    <tr>\n",
       "      <th>2</th>\n",
       "      <td>11.567708</td>\n",
       "      <td>0.608310</td>\n",
       "      <td>1.873323</td>\n",
       "      <td>6.412821</td>\n",
       "      <td>0.999995</td>\n",
       "      <td>-280.186852</td>\n",
       "      <td>133.811870</td>\n",
       "      <td>1.160380</td>\n",
       "      <td>-206.238816</td>\n",
       "      <td>-1.006502</td>\n",
       "      <td>...</td>\n",
       "      <td>64.417992</td>\n",
       "      <td>98.846694</td>\n",
       "      <td>66.381070</td>\n",
       "      <td>82.118547</td>\n",
       "      <td>96.837671</td>\n",
       "      <td>103.887599</td>\n",
       "      <td>False</td>\n",
       "      <td>True</td>\n",
       "      <td>False</td>\n",
       "      <td>False</td>\n",
       "    </tr>\n",
       "    <tr>\n",
       "      <th>3</th>\n",
       "      <td>9.220074</td>\n",
       "      <td>0.999864</td>\n",
       "      <td>5.041939</td>\n",
       "      <td>-12.692120</td>\n",
       "      <td>-1.000000</td>\n",
       "      <td>164.773793</td>\n",
       "      <td>85.009772</td>\n",
       "      <td>-1.401234</td>\n",
       "      <td>92.624296</td>\n",
       "      <td>2.712139</td>\n",
       "      <td>...</td>\n",
       "      <td>120.176496</td>\n",
       "      <td>104.297092</td>\n",
       "      <td>89.318362</td>\n",
       "      <td>73.791588</td>\n",
       "      <td>71.870016</td>\n",
       "      <td>68.397346</td>\n",
       "      <td>False</td>\n",
       "      <td>False</td>\n",
       "      <td>True</td>\n",
       "      <td>False</td>\n",
       "    </tr>\n",
       "    <tr>\n",
       "      <th>4</th>\n",
       "      <td>-3.025434</td>\n",
       "      <td>-0.594711</td>\n",
       "      <td>5.912259</td>\n",
       "      <td>-14.922129</td>\n",
       "      <td>-1.000000</td>\n",
       "      <td>9.546673</td>\n",
       "      <td>9.153251</td>\n",
       "      <td>-0.157479</td>\n",
       "      <td>-175.895074</td>\n",
       "      <td>-0.832795</td>\n",
       "      <td>...</td>\n",
       "      <td>75.458961</td>\n",
       "      <td>111.831234</td>\n",
       "      <td>111.871202</td>\n",
       "      <td>99.733563</td>\n",
       "      <td>100.697358</td>\n",
       "      <td>97.568328</td>\n",
       "      <td>False</td>\n",
       "      <td>False</td>\n",
       "      <td>True</td>\n",
       "      <td>False</td>\n",
       "    </tr>\n",
       "  </tbody>\n",
       "</table>\n",
       "<p>5 rows × 23 columns</p>\n",
       "</div>"
      ],
      "text/plain": [
       "   feature_1  feature_2  feature_3  feature_4  feature_5   feature_6  \\\n",
       "0  -0.043457  -0.027918   1.473594 -10.309556  -1.000000  145.373247   \n",
       "1  -1.535978   0.999851  23.019753  38.430092   1.000000 -110.045207   \n",
       "2  11.567708   0.608310   1.873323   6.412821   0.999995 -280.186852   \n",
       "3   9.220074   0.999864   5.041939 -12.692120  -1.000000  164.773793   \n",
       "4  -3.025434  -0.594711   5.912259 -14.922129  -1.000000    9.546673   \n",
       "\n",
       "    feature_7  feature_8   feature_9  feature_10  ...  feature_15  feature_16  \\\n",
       "0    0.001888   2.555947  -64.208613    0.470329  ...  120.550153   59.736520   \n",
       "1    2.359228   0.571917 -110.318854   -2.620978  ...   68.505986  116.330797   \n",
       "2  133.811870   1.160380 -206.238816   -1.006502  ...   64.417992   98.846694   \n",
       "3   85.009772  -1.401234   92.624296    2.712139  ...  120.176496  104.297092   \n",
       "4    9.153251  -0.157479 -175.895074   -0.832795  ...   75.458961  111.831234   \n",
       "\n",
       "   feature_17  feature_18  feature_19  feature_20  feature_12_A  feature_12_B  \\\n",
       "0   64.325558  107.833753   85.853573  104.466108         False          True   \n",
       "1   75.365722  104.229006   90.842232   95.232654         False         False   \n",
       "2   66.381070   82.118547   96.837671  103.887599         False          True   \n",
       "3   89.318362   73.791588   71.870016   68.397346         False         False   \n",
       "4  111.871202   99.733563  100.697358   97.568328         False         False   \n",
       "\n",
       "   feature_12_C  feature_12_D  \n",
       "0         False         False  \n",
       "1         False          True  \n",
       "2         False         False  \n",
       "3          True         False  \n",
       "4          True         False  \n",
       "\n",
       "[5 rows x 23 columns]"
      ]
     },
     "execution_count": 50,
     "metadata": {},
     "output_type": "execute_result"
    }
   ],
   "source": [
    "X_encoded.head()"
   ]
  },
  {
   "cell_type": "markdown",
   "id": "abf0e5c7-de68-4da9-91dc-b7ed3d4a1f95",
   "metadata": {},
   "source": [
    "5. Надеюсь вы заметили что масштабы наших признаков сильно разнятся.<br>\n",
    "Давайте применим одно единое масштабирование на все наши признаки."
   ]
  },
  {
   "cell_type": "code",
   "execution_count": 51,
   "id": "6fc63192-2f84-4136-ab13-c8a9a2a0ae9f",
   "metadata": {},
   "outputs": [],
   "source": [
    "scaler = StandardScaler()\n",
    "\n",
    "X_train_scaled = scaler.fit_transform(X_train)\n",
    "X_test_scaled = scaler.transform(X_test)"
   ]
  },
  {
   "cell_type": "code",
   "execution_count": null,
   "id": "a0973eb4-fcbf-4cfb-90fe-60dfbdc2b342",
   "metadata": {},
   "outputs": [],
   "source": []
  },
  {
   "cell_type": "markdown",
   "id": "b6136803-d092-4a97-ac6f-509159ad37dd",
   "metadata": {},
   "source": [
    "6. Постройте модель линейной регрессии.<br>\n",
    "Оцените модель с помощью метрики RMSE, а также покажите статистические метрики"
   ]
  },
  {
   "cell_type": "code",
   "execution_count": 52,
   "id": "d515877e-013f-4167-84bc-aec0da6c4e3f",
   "metadata": {},
   "outputs": [],
   "source": [
    "model = LinearRegression()\n",
    "model.fit(X_train_scaled, y_train)\n",
    "\n",
    "y_pred = model.predict(X_test_scaled)"
   ]
  },
  {
   "cell_type": "code",
   "execution_count": 53,
   "id": "2d5d4944-525a-4d7b-b156-b40351640259",
   "metadata": {},
   "outputs": [
    {
     "data": {
      "text/plain": [
       "6760.374952900915"
      ]
     },
     "execution_count": 53,
     "metadata": {},
     "output_type": "execute_result"
    }
   ],
   "source": [
    "MSE(y_test, y_pred)**(1/2)"
   ]
  },
  {
   "cell_type": "code",
   "execution_count": 54,
   "id": "9298aa58-2d20-4486-9f45-2bb5b206676f",
   "metadata": {},
   "outputs": [
    {
     "data": {
      "text/plain": [
       "0.36151845744532307"
      ]
     },
     "execution_count": 54,
     "metadata": {},
     "output_type": "execute_result"
    }
   ],
   "source": [
    "from sklearn.metrics import r2_score\n",
    "r2_score(y_test, y_pred)"
   ]
  },
  {
   "cell_type": "markdown",
   "id": "4f8866e9-4876-426a-b547-f8370e3cbf31",
   "metadata": {},
   "source": [
    "### Апдейт задачи\n",
    "Пришле заказчик и запросил текущий статус. Метрики RMSE ему сильно не понравились, около половины размаха всего таргета.<br>\n",
    "Вы предпологаете, что задача регрессии слишком комплексна для текущего набора данных.<br>\n",
    "Вы предложили, поделить таргет на классы, то есть не определять абсолютную сумму транзакций, а определять к какому классу этот клиент относится (высокодоходных, средний или низкодоходный).<br>\n",
    "Заказчик показать как поделить на эти классы"
   ]
  },
  {
   "cell_type": "code",
   "execution_count": null,
   "id": "65eecebc",
   "metadata": {},
   "outputs": [],
   "source": []
  },
  {
   "cell_type": "markdown",
   "id": "3888dbb6-f062-40f8-954a-1bdb5e327e96",
   "metadata": {},
   "source": [
    "7. Чтобы поделить таргет на классы давайте сначала посмотрим на распределение этого самого таргета"
   ]
  },
  {
   "cell_type": "code",
   "execution_count": 55,
   "id": "45a67c72-0a92-4d59-87ef-ac4fc701e65f",
   "metadata": {},
   "outputs": [
    {
     "data": {
      "image/png": "[encoded data removed]",
      "text/plain": [
       "<Figure size 800x600 with 1 Axes>"
      ]
     },
     "metadata": {},
     "output_type": "display_data"
    }
   ],
   "source": [
    "plt.figure(figsize=(8, 6))\n",
    "plt.hist(y, bins=30, edgecolor='k')\n",
    "plt.xlabel('Сумма транзакции')\n",
    "plt.ylabel('Частота')\n",
    "plt.title('Распределение сумм транзакций')\n",
    "plt.show()"
   ]
  },
  {
   "cell_type": "code",
   "execution_count": null,
   "id": "06758043-965d-4b84-be41-d9e5f442481f",
   "metadata": {},
   "outputs": [],
   "source": []
  },
  {
   "cell_type": "markdown",
   "id": "9247ca49-a90c-4961-8bb9-93902377165d",
   "metadata": {},
   "source": [
    "8. Думаю вы согласитесь что распределение выглядит равномерным то есть поделить мы можем на три равных класса.<br>\n",
    "Для этого нам нужно посчитать соответствующие перцентили (33% и 67%)"
   ]
  },
  {
   "cell_type": "code",
   "execution_count": 56,
   "id": "e0ae5c48-8a69-4ab9-a0bf-f747a33f741d",
   "metadata": {},
   "outputs": [],
   "source": [
    "percentile_33 = np.percentile(y, 33)\n",
    "percentile_67 = np.percentile(y, 67)"
   ]
  },
  {
   "cell_type": "code",
   "execution_count": 57,
   "id": "b432ec70-951c-4ee5-bdd7-1cb358c68ac2",
   "metadata": {},
   "outputs": [
    {
     "name": "stdout",
     "output_type": "stream",
     "text": [
      "33-й перцентиль: 9871.67\n",
      "67-й перцентиль: 20120.66\n"
     ]
    }
   ],
   "source": [
    "print(\"33-й перцентиль:\", percentile_33)\n",
    "print(\"67-й перцентиль:\", percentile_67)"
   ]
  },
  {
   "cell_type": "code",
   "execution_count": null,
   "id": "4451fe35-805f-4281-8130-57d0fb9c96ee",
   "metadata": {},
   "outputs": [],
   "source": []
  },
  {
   "cell_type": "markdown",
   "id": "ae34fb08-694d-4a27-a80a-488d7ed32fb4",
   "metadata": {},
   "source": [
    "9. Заказчик согласился на деление по классам по данным перцентире но предложил их округлить.<br>\n",
    "Поэтому создайте новый таргет, по такой логике, все что ниже 10,000 это низкодоходный, а все что выше 20000 это высокодоходный, остальное соответсвенно средний класс"
   ]
  },
  {
   "cell_type": "code",
   "execution_count": 58,
   "id": "dd089606-135e-44d7-914f-a27e51ec145c",
   "metadata": {},
   "outputs": [
    {
     "name": "stdout",
     "output_type": "stream",
     "text": [
      "0        Средний класс\n",
      "1        Низкодоходный\n",
      "2        Средний класс\n",
      "3       Высокодоходный\n",
      "4        Низкодоходный\n",
      "             ...      \n",
      "8995     Средний класс\n",
      "8996    Высокодоходный\n",
      "8997     Низкодоходный\n",
      "8998    Высокодоходный\n",
      "8999     Средний класс\n",
      "Name: int_target, Length: 9000, dtype: object\n"
     ]
    }
   ],
   "source": [
    "def income_class(income):\n",
    "    if income < 10000:\n",
    "        return 'Низкодоходный'\n",
    "    elif income > 20000:\n",
    "        return 'Высокодоходный'\n",
    "    else:\n",
    "        return 'Средний класс'\n",
    "y_class = y.apply(income_class)\n",
    "print(y_class)"
   ]
  },
  {
   "cell_type": "code",
   "execution_count": null,
   "id": "d8bf92ce-6ffc-4e13-8fe2-d9e79fe6c128",
   "metadata": {},
   "outputs": [],
   "source": []
  },
  {
   "cell_type": "markdown",
   "id": "7860d2ae-05ef-4287-a986-d16fad7f048d",
   "metadata": {},
   "source": [
    "10. Давайте теперь построим модель логистической регрессии она будет служить нам бэйзлайном, а также фильтром признаков.<br>\n",
    "Для этого постройте модель с Lasso регуляризацией и коефициентом регуляризации 0.01.<br>\n",
    "Оцените модель используя метрику accuracy"
   ]
  },
  {
   "cell_type": "code",
   "execution_count": 59,
   "id": "f2813c66",
   "metadata": {},
   "outputs": [],
   "source": [
    "X_train, X_test, y_train, y_test = train_test_split(X_encoded, y_class, test_size=0.3, random_state=105)"
   ]
  },
  {
   "cell_type": "code",
   "execution_count": 60,
   "id": "86af5904-54c9-480b-b937-c564fa306d0b",
   "metadata": {},
   "outputs": [
    {
     "data": {
      "text/html": [
       "<style>#sk-container-id-5 {color: black;}#sk-container-id-5 pre{padding: 0;}#sk-container-id-5 div.sk-toggleable {background-color: white;}#sk-container-id-5 label.sk-toggleable__label {cursor: pointer;display: block;width: 100%;margin-bottom: 0;padding: 0.3em;box-sizing: border-box;text-align: center;}#sk-container-id-5 label.sk-toggleable__label-arrow:before {content: \"▸\";float: left;margin-right: 0.25em;color: #696969;}#sk-container-id-5 label.sk-toggleable__label-arrow:hover:before {color: black;}#sk-container-id-5 div.sk-estimator:hover label.sk-toggleable__label-arrow:before {color: black;}#sk-container-id-5 div.sk-toggleable__content {max-height: 0;max-width: 0;overflow: hidden;text-align: left;background-color: #f0f8ff;}#sk-container-id-5 div.sk-toggleable__content pre {margin: 0.2em;color: black;border-radius: 0.25em;background-color: #f0f8ff;}#sk-container-id-5 input.sk-toggleable__control:checked~div.sk-toggleable__content {max-height: 200px;max-width: 100%;overflow: auto;}#sk-container-id-5 input.sk-toggleable__control:checked~label.sk-toggleable__label-arrow:before {content: \"▾\";}#sk-container-id-5 div.sk-estimator input.sk-toggleable__control:checked~label.sk-toggleable__label {background-color: #d4ebff;}#sk-container-id-5 div.sk-label input.sk-toggleable__control:checked~label.sk-toggleable__label {background-color: #d4ebff;}#sk-container-id-5 input.sk-hidden--visually {border: 0;clip: rect(1px 1px 1px 1px);clip: rect(1px, 1px, 1px, 1px);height: 1px;margin: -1px;overflow: hidden;padding: 0;position: absolute;width: 1px;}#sk-container-id-5 div.sk-estimator {font-family: monospace;background-color: #f0f8ff;border: 1px dotted black;border-radius: 0.25em;box-sizing: border-box;margin-bottom: 0.5em;}#sk-container-id-5 div.sk-estimator:hover {background-color: #d4ebff;}#sk-container-id-5 div.sk-parallel-item::after {content: \"\";width: 100%;border-bottom: 1px solid gray;flex-grow: 1;}#sk-container-id-5 div.sk-label:hover label.sk-toggleable__label {background-color: #d4ebff;}#sk-container-id-5 div.sk-serial::before {content: \"\";position: absolute;border-left: 1px solid gray;box-sizing: border-box;top: 0;bottom: 0;left: 50%;z-index: 0;}#sk-container-id-5 div.sk-serial {display: flex;flex-direction: column;align-items: center;background-color: white;padding-right: 0.2em;padding-left: 0.2em;position: relative;}#sk-container-id-5 div.sk-item {position: relative;z-index: 1;}#sk-container-id-5 div.sk-parallel {display: flex;align-items: stretch;justify-content: center;background-color: white;position: relative;}#sk-container-id-5 div.sk-item::before, #sk-container-id-5 div.sk-parallel-item::before {content: \"\";position: absolute;border-left: 1px solid gray;box-sizing: border-box;top: 0;bottom: 0;left: 50%;z-index: -1;}#sk-container-id-5 div.sk-parallel-item {display: flex;flex-direction: column;z-index: 1;position: relative;background-color: white;}#sk-container-id-5 div.sk-parallel-item:first-child::after {align-self: flex-end;width: 50%;}#sk-container-id-5 div.sk-parallel-item:last-child::after {align-self: flex-start;width: 50%;}#sk-container-id-5 div.sk-parallel-item:only-child::after {width: 0;}#sk-container-id-5 div.sk-dashed-wrapped {border: 1px dashed gray;margin: 0 0.4em 0.5em 0.4em;box-sizing: border-box;padding-bottom: 0.4em;background-color: white;}#sk-container-id-5 div.sk-label label {font-family: monospace;font-weight: bold;display: inline-block;line-height: 1.2em;}#sk-container-id-5 div.sk-label-container {text-align: center;}#sk-container-id-5 div.sk-container {/* jupyter's `normalize.less` sets `[hidden] { display: none; }` but bootstrap.min.css set `[hidden] { display: none !important; }` so we also need the `!important` here to be able to override the default hidden behavior on the sphinx rendered scikit-learn.org. See: https://github.com/scikit-learn/scikit-learn/issues/21755 */display: inline-block !important;position: relative;}#sk-container-id-5 div.sk-text-repr-fallback {display: none;}</style><div id=\"sk-container-id-5\" class=\"sk-top-container\"><div class=\"sk-text-repr-fallback\"><pre>LogisticRegression(C=0.01, penalty=&#x27;l1&#x27;, solver=&#x27;liblinear&#x27;)</pre><b>In a Jupyter environment, please rerun this cell to show the HTML representation or trust the notebook. <br />On GitHub, the HTML representation is unable to render, please try loading this page with nbviewer.org.</b></div><div class=\"sk-container\" hidden><div class=\"sk-item\"><div class=\"sk-estimator sk-toggleable\"><input class=\"sk-toggleable__control sk-hidden--visually\" id=\"sk-estimator-id-5\" type=\"checkbox\" checked><label for=\"sk-estimator-id-5\" class=\"sk-toggleable__label sk-toggleable__label-arrow\">LogisticRegression</label><div class=\"sk-toggleable__content\"><pre>LogisticRegression(C=0.01, penalty=&#x27;l1&#x27;, solver=&#x27;liblinear&#x27;)</pre></div></div></div></div></div>"
      ],
      "text/plain": [
       "LogisticRegression(C=0.01, penalty='l1', solver='liblinear')"
      ]
     },
     "execution_count": 60,
     "metadata": {},
     "output_type": "execute_result"
    }
   ],
   "source": [
    "model = LogisticRegression(penalty='l1', C=0.01, solver='liblinear')\n",
    "model.fit(X_train, y_train)"
   ]
  },
  {
   "cell_type": "code",
   "execution_count": 61,
   "id": "a86209e3-c768-4247-9eb4-308afbc07731",
   "metadata": {},
   "outputs": [],
   "source": [
    "y_pred = model.predict(X_test)"
   ]
  },
  {
   "cell_type": "code",
   "execution_count": 62,
   "id": "78f8285a-9478-4519-afe1-7ee41b77a945",
   "metadata": {},
   "outputs": [
    {
     "data": {
      "text/plain": [
       "0.7692592592592593"
      ]
     },
     "execution_count": 62,
     "metadata": {},
     "output_type": "execute_result"
    }
   ],
   "source": [
    "accuracy_score(y_test, y_pred)"
   ]
  },
  {
   "cell_type": "code",
   "execution_count": null,
   "id": "62a21213",
   "metadata": {},
   "outputs": [],
   "source": []
  },
  {
   "cell_type": "markdown",
   "id": "36360389",
   "metadata": {},
   "source": [
    "11. Посмотрите какие получились коэффициенты признаков у нашей модели"
   ]
  },
  {
   "cell_type": "code",
   "execution_count": 63,
   "id": "e134732c-f036-45bf-a942-934b5c3016d0",
   "metadata": {},
   "outputs": [
    {
     "data": {
      "text/plain": [
       "(array([[ 4.66629125e-03,  7.25772353e-02,  7.80775721e-04,\n",
       "         -1.62221491e-02,  0.00000000e+00, -8.88424585e-04,\n",
       "         -7.14392894e-04, -2.51739524e-01,  5.59161287e-03,\n",
       "          3.42916855e-01,  1.71500650e-01, -9.65807962e-04,\n",
       "          2.36586089e-03, -2.26015209e-03, -1.28647883e-03,\n",
       "          8.68072900e-04,  9.84777653e-04, -1.76713999e-03,\n",
       "         -4.73716382e-05,  0.00000000e+00,  0.00000000e+00,\n",
       "          0.00000000e+00,  0.00000000e+00],\n",
       "        [ 3.55334007e-02, -2.58195878e-01, -4.04593525e-04,\n",
       "          6.42571555e-02,  0.00000000e+00, -2.88926648e-04,\n",
       "          4.87297358e-05, -2.24152572e-01, -8.36954865e-03,\n",
       "          1.86224543e-01, -5.43328542e-01,  1.88761276e-04,\n",
       "         -2.55564416e-03, -1.36039556e-03, -1.30053156e-03,\n",
       "         -1.75797766e-03, -2.10411678e-03, -3.05416768e-03,\n",
       "         -1.51818223e-03,  0.00000000e+00,  0.00000000e+00,\n",
       "          0.00000000e+00,  0.00000000e+00],\n",
       "        [-3.74656616e-02,  0.00000000e+00, -6.52678300e-04,\n",
       "         -4.54891642e-02,  0.00000000e+00,  2.26494241e-03,\n",
       "          1.79930947e-04,  5.17867667e-01,  1.80125931e-03,\n",
       "         -5.75633649e-01,  3.37220474e-01, -2.81758714e-03,\n",
       "         -3.30332404e-03, -3.44269739e-04, -5.55065830e-04,\n",
       "         -3.31655681e-03, -3.30913620e-03,  9.21630678e-04,\n",
       "         -1.24826871e-03,  0.00000000e+00,  0.00000000e+00,\n",
       "          0.00000000e+00,  0.00000000e+00]]),\n",
       " array([0., 0., 0.]))"
      ]
     },
     "execution_count": 63,
     "metadata": {},
     "output_type": "execute_result"
    }
   ],
   "source": [
    "model.coef_, model.intercept_"
   ]
  },
  {
   "cell_type": "code",
   "execution_count": null,
   "id": "24d2d290-e1dd-44c3-8a95-10f1fe3fc204",
   "metadata": {},
   "outputs": [],
   "source": []
  },
  {
   "cell_type": "markdown",
   "id": "274abf60-2611-43d8-b1c7-f0f796f611e1",
   "metadata": {},
   "source": [
    "12. Что ж видимо признаки у которых коэффициенты по всем классам равны нулю нам не особо полезны.<br>\n",
    "Давайте выберем только те признаки у которых коэффициент не ноль и создадим новый датасет признаков"
   ]
  },
  {
   "cell_type": "code",
   "execution_count": 64,
   "id": "ebe68789-0200-4ea2-8298-d6d59720a24d",
   "metadata": {},
   "outputs": [
    {
     "name": "stdout",
     "output_type": "stream",
     "text": [
      "   feature_1  feature_2  feature_3  feature_4   feature_6   feature_7  \\\n",
      "0  -0.043457  -0.027918   1.473594 -10.309556  145.373247    0.001888   \n",
      "1  -1.535978   0.999851  23.019753  38.430092 -110.045207    2.359228   \n",
      "2  11.567708   0.608310   1.873323   6.412821 -280.186852  133.811870   \n",
      "3   9.220074   0.999864   5.041939 -12.692120  164.773793   85.009772   \n",
      "4  -3.025434  -0.594711   5.912259 -14.922129    9.546673    9.153251   \n",
      "\n",
      "   feature_8   feature_9  feature_10  feature_11  feature_13  feature_14  \\\n",
      "0   2.555947  -64.208613    0.470329    0.525065   83.317907   85.385030   \n",
      "1   0.571917 -110.318854   -2.620978   -0.910418  114.881621   79.711086   \n",
      "2   1.160380 -206.238816   -1.006502   -1.598523  145.833459  115.159171   \n",
      "3  -1.401234   92.624296    2.712139    3.248977   98.150579   78.620349   \n",
      "4  -0.157479 -175.895074   -0.832795   -0.565688   94.519135  123.286154   \n",
      "\n",
      "   feature_15  feature_16  feature_17  feature_18  feature_19  feature_20  \n",
      "0  120.550153   59.736520   64.325558  107.833753   85.853573  104.466108  \n",
      "1   68.505986  116.330797   75.365722  104.229006   90.842232   95.232654  \n",
      "2   64.417992   98.846694   66.381070   82.118547   96.837671  103.887599  \n",
      "3  120.176496  104.297092   89.318362   73.791588   71.870016   68.397346  \n",
      "4   75.458961  111.831234  111.871202   99.733563  100.697358   97.568328  \n"
     ]
    }
   ],
   "source": [
    "selected_features = X_encoded.columns[model.coef_[0] != 0]\n",
    "\n",
    "new_dataset = X[selected_features]\n",
    "\n",
    "print(new_dataset.head())"
   ]
  },
  {
   "cell_type": "code",
   "execution_count": 65,
   "id": "28e09524-e722-4442-8b1d-3229f9bffa80",
   "metadata": {},
   "outputs": [
    {
     "name": "stdout",
     "output_type": "stream",
     "text": [
      "Index(['feature_1', 'feature_2', 'feature_3', 'feature_4', 'feature_6',\n",
      "       'feature_7', 'feature_8', 'feature_9', 'feature_10', 'feature_11',\n",
      "       'feature_13', 'feature_14', 'feature_15', 'feature_16', 'feature_17',\n",
      "       'feature_18', 'feature_19', 'feature_20'],\n",
      "      dtype='object')\n"
     ]
    }
   ],
   "source": [
    "print(selected_features)"
   ]
  },
  {
   "cell_type": "markdown",
   "id": "0c22edda-ff7f-4a62-bac3-33281dc11b40",
   "metadata": {},
   "source": [
    "13. Давайте посмотрим есть ли какая-то предсказательная способность у оставшихся признаков.<br>\n",
    "Для этого примените principal component analysis и нарисуйте эти компоненты на графике с таргетом"
   ]
  },
  {
   "cell_type": "code",
   "execution_count": 66,
   "id": "6a9cc037-bdad-45fb-9489-c1d3987de237",
   "metadata": {},
   "outputs": [],
   "source": [
    "pca = PCA(n_components=2)\n",
    "X_pca = pca.fit_transform(new_dataset)\n",
    "\n",
    "pca_df = pd.DataFrame(data=X_pca, columns=['PC1', 'PC2'])\n",
    "pca_df['target'] = y_class.values"
   ]
  },
  {
   "cell_type": "code",
   "execution_count": 67,
   "id": "978b1693-93ca-4703-9b35-9937cf1a8e69",
   "metadata": {},
   "outputs": [
    {
     "data": {
      "image/png": "[encoded data removed]",
      "text/plain": [
       "<Figure size 1000x600 with 1 Axes>"
      ]
     },
     "metadata": {},
     "output_type": "display_data"
    }
   ],
   "source": [
    "plt.figure(figsize=(10, 6))\n",
    "sns.scatterplot(data=pca_df, x='PC1', y='PC2', hue='target', palette='Set1')\n",
    "plt.title('Principal Component Analysis (PCA)')\n",
    "plt.xlabel('Principal Component 1')\n",
    "plt.ylabel('Principal Component 2')\n",
    "plt.legend(title='Target', loc='best')\n",
    "plt.show()"
   ]
  },
  {
   "cell_type": "code",
   "execution_count": null,
   "id": "03d4a15c-8f8d-4f64-9b45-4564d5696bea",
   "metadata": {},
   "outputs": [],
   "source": []
  },
  {
   "cell_type": "markdown",
   "id": "f6c42789-1486-4225-9da8-357ad3424c92",
   "metadata": {},
   "source": [
    "14. Видимо что-то есть в этих признаках.<br>\n",
    "Давайте теперь попробуем построить более комплексную модель, постройте любую модель основную на деревьях.<br>\n",
    "Так же оцените вашу модель с помощью метрики accuracy"
   ]
  },
  {
   "cell_type": "code",
   "execution_count": 68,
   "id": "841cf701-8007-4cf8-be17-20257e1514f6",
   "metadata": {},
   "outputs": [
    {
     "data": {
      "text/html": [
       "<style>#sk-container-id-6 {color: black;}#sk-container-id-6 pre{padding: 0;}#sk-container-id-6 div.sk-toggleable {background-color: white;}#sk-container-id-6 label.sk-toggleable__label {cursor: pointer;display: block;width: 100%;margin-bottom: 0;padding: 0.3em;box-sizing: border-box;text-align: center;}#sk-container-id-6 label.sk-toggleable__label-arrow:before {content: \"▸\";float: left;margin-right: 0.25em;color: #696969;}#sk-container-id-6 label.sk-toggleable__label-arrow:hover:before {color: black;}#sk-container-id-6 div.sk-estimator:hover label.sk-toggleable__label-arrow:before {color: black;}#sk-container-id-6 div.sk-toggleable__content {max-height: 0;max-width: 0;overflow: hidden;text-align: left;background-color: #f0f8ff;}#sk-container-id-6 div.sk-toggleable__content pre {margin: 0.2em;color: black;border-radius: 0.25em;background-color: #f0f8ff;}#sk-container-id-6 input.sk-toggleable__control:checked~div.sk-toggleable__content {max-height: 200px;max-width: 100%;overflow: auto;}#sk-container-id-6 input.sk-toggleable__control:checked~label.sk-toggleable__label-arrow:before {content: \"▾\";}#sk-container-id-6 div.sk-estimator input.sk-toggleable__control:checked~label.sk-toggleable__label {background-color: #d4ebff;}#sk-container-id-6 div.sk-label input.sk-toggleable__control:checked~label.sk-toggleable__label {background-color: #d4ebff;}#sk-container-id-6 input.sk-hidden--visually {border: 0;clip: rect(1px 1px 1px 1px);clip: rect(1px, 1px, 1px, 1px);height: 1px;margin: -1px;overflow: hidden;padding: 0;position: absolute;width: 1px;}#sk-container-id-6 div.sk-estimator {font-family: monospace;background-color: #f0f8ff;border: 1px dotted black;border-radius: 0.25em;box-sizing: border-box;margin-bottom: 0.5em;}#sk-container-id-6 div.sk-estimator:hover {background-color: #d4ebff;}#sk-container-id-6 div.sk-parallel-item::after {content: \"\";width: 100%;border-bottom: 1px solid gray;flex-grow: 1;}#sk-container-id-6 div.sk-label:hover label.sk-toggleable__label {background-color: #d4ebff;}#sk-container-id-6 div.sk-serial::before {content: \"\";position: absolute;border-left: 1px solid gray;box-sizing: border-box;top: 0;bottom: 0;left: 50%;z-index: 0;}#sk-container-id-6 div.sk-serial {display: flex;flex-direction: column;align-items: center;background-color: white;padding-right: 0.2em;padding-left: 0.2em;position: relative;}#sk-container-id-6 div.sk-item {position: relative;z-index: 1;}#sk-container-id-6 div.sk-parallel {display: flex;align-items: stretch;justify-content: center;background-color: white;position: relative;}#sk-container-id-6 div.sk-item::before, #sk-container-id-6 div.sk-parallel-item::before {content: \"\";position: absolute;border-left: 1px solid gray;box-sizing: border-box;top: 0;bottom: 0;left: 50%;z-index: -1;}#sk-container-id-6 div.sk-parallel-item {display: flex;flex-direction: column;z-index: 1;position: relative;background-color: white;}#sk-container-id-6 div.sk-parallel-item:first-child::after {align-self: flex-end;width: 50%;}#sk-container-id-6 div.sk-parallel-item:last-child::after {align-self: flex-start;width: 50%;}#sk-container-id-6 div.sk-parallel-item:only-child::after {width: 0;}#sk-container-id-6 div.sk-dashed-wrapped {border: 1px dashed gray;margin: 0 0.4em 0.5em 0.4em;box-sizing: border-box;padding-bottom: 0.4em;background-color: white;}#sk-container-id-6 div.sk-label label {font-family: monospace;font-weight: bold;display: inline-block;line-height: 1.2em;}#sk-container-id-6 div.sk-label-container {text-align: center;}#sk-container-id-6 div.sk-container {/* jupyter's `normalize.less` sets `[hidden] { display: none; }` but bootstrap.min.css set `[hidden] { display: none !important; }` so we also need the `!important` here to be able to override the default hidden behavior on the sphinx rendered scikit-learn.org. See: https://github.com/scikit-learn/scikit-learn/issues/21755 */display: inline-block !important;position: relative;}#sk-container-id-6 div.sk-text-repr-fallback {display: none;}</style><div id=\"sk-container-id-6\" class=\"sk-top-container\"><div class=\"sk-text-repr-fallback\"><pre>DecisionTreeClassifier(max_depth=10, min_samples_leaf=2)</pre><b>In a Jupyter environment, please rerun this cell to show the HTML representation or trust the notebook. <br />On GitHub, the HTML representation is unable to render, please try loading this page with nbviewer.org.</b></div><div class=\"sk-container\" hidden><div class=\"sk-item\"><div class=\"sk-estimator sk-toggleable\"><input class=\"sk-toggleable__control sk-hidden--visually\" id=\"sk-estimator-id-6\" type=\"checkbox\" checked><label for=\"sk-estimator-id-6\" class=\"sk-toggleable__label sk-toggleable__label-arrow\">DecisionTreeClassifier</label><div class=\"sk-toggleable__content\"><pre>DecisionTreeClassifier(max_depth=10, min_samples_leaf=2)</pre></div></div></div></div></div>"
      ],
      "text/plain": [
       "DecisionTreeClassifier(max_depth=10, min_samples_leaf=2)"
      ]
     },
     "execution_count": 68,
     "metadata": {},
     "output_type": "execute_result"
    }
   ],
   "source": [
    "X_train, X_test, y_train, y_test = train_test_split(new_dataset, y_class, test_size=0.3, random_state=105)\n",
    "\n",
    "scaler.fit(X_train)\n",
    "x_tr_scaled = scaler.transform(X_train)\n",
    "x_t_scaled = scaler.transform(X_test)\n",
    "\n",
    "tree_model = DecisionTreeClassifier(criterion = 'gini', max_depth = 10, min_samples_leaf = 2, min_samples_split = 2) # GridSearchCV\n",
    "tree_model.fit(x_tr_scaled, y_train)"
   ]
  },
  {
   "cell_type": "code",
   "execution_count": 69,
   "id": "6e9f8594-2288-453e-a3db-2d2d39a15c8d",
   "metadata": {},
   "outputs": [
    {
     "data": {
      "text/plain": [
       "0.7477777777777778"
      ]
     },
     "execution_count": 69,
     "metadata": {},
     "output_type": "execute_result"
    }
   ],
   "source": [
    "y_pred_tree = tree_model.predict(x_t_scaled)\n",
    "accuracy_score(y_test, y_pred_tree)"
   ]
  },
  {
   "cell_type": "markdown",
   "id": "d3c2fe39-2672-4c10-acb1-b808717720b8",
   "metadata": {},
   "source": [
    "15. Давайте попробуем применить другой тип модели.<br>\n",
    "Постройте SVM модель и оцените ее accuracy"
   ]
  },
  {
   "cell_type": "code",
   "execution_count": 70,
   "id": "ca86e30e-abdc-40e4-808a-1ff2cabde730",
   "metadata": {},
   "outputs": [
    {
     "data": {
      "text/html": [
       "<style>#sk-container-id-7 {color: black;}#sk-container-id-7 pre{padding: 0;}#sk-container-id-7 div.sk-toggleable {background-color: white;}#sk-container-id-7 label.sk-toggleable__label {cursor: pointer;display: block;width: 100%;margin-bottom: 0;padding: 0.3em;box-sizing: border-box;text-align: center;}#sk-container-id-7 label.sk-toggleable__label-arrow:before {content: \"▸\";float: left;margin-right: 0.25em;color: #696969;}#sk-container-id-7 label.sk-toggleable__label-arrow:hover:before {color: black;}#sk-container-id-7 div.sk-estimator:hover label.sk-toggleable__label-arrow:before {color: black;}#sk-container-id-7 div.sk-toggleable__content {max-height: 0;max-width: 0;overflow: hidden;text-align: left;background-color: #f0f8ff;}#sk-container-id-7 div.sk-toggleable__content pre {margin: 0.2em;color: black;border-radius: 0.25em;background-color: #f0f8ff;}#sk-container-id-7 input.sk-toggleable__control:checked~div.sk-toggleable__content {max-height: 200px;max-width: 100%;overflow: auto;}#sk-container-id-7 input.sk-toggleable__control:checked~label.sk-toggleable__label-arrow:before {content: \"▾\";}#sk-container-id-7 div.sk-estimator input.sk-toggleable__control:checked~label.sk-toggleable__label {background-color: #d4ebff;}#sk-container-id-7 div.sk-label input.sk-toggleable__control:checked~label.sk-toggleable__label {background-color: #d4ebff;}#sk-container-id-7 input.sk-hidden--visually {border: 0;clip: rect(1px 1px 1px 1px);clip: rect(1px, 1px, 1px, 1px);height: 1px;margin: -1px;overflow: hidden;padding: 0;position: absolute;width: 1px;}#sk-container-id-7 div.sk-estimator {font-family: monospace;background-color: #f0f8ff;border: 1px dotted black;border-radius: 0.25em;box-sizing: border-box;margin-bottom: 0.5em;}#sk-container-id-7 div.sk-estimator:hover {background-color: #d4ebff;}#sk-container-id-7 div.sk-parallel-item::after {content: \"\";width: 100%;border-bottom: 1px solid gray;flex-grow: 1;}#sk-container-id-7 div.sk-label:hover label.sk-toggleable__label {background-color: #d4ebff;}#sk-container-id-7 div.sk-serial::before {content: \"\";position: absolute;border-left: 1px solid gray;box-sizing: border-box;top: 0;bottom: 0;left: 50%;z-index: 0;}#sk-container-id-7 div.sk-serial {display: flex;flex-direction: column;align-items: center;background-color: white;padding-right: 0.2em;padding-left: 0.2em;position: relative;}#sk-container-id-7 div.sk-item {position: relative;z-index: 1;}#sk-container-id-7 div.sk-parallel {display: flex;align-items: stretch;justify-content: center;background-color: white;position: relative;}#sk-container-id-7 div.sk-item::before, #sk-container-id-7 div.sk-parallel-item::before {content: \"\";position: absolute;border-left: 1px solid gray;box-sizing: border-box;top: 0;bottom: 0;left: 50%;z-index: -1;}#sk-container-id-7 div.sk-parallel-item {display: flex;flex-direction: column;z-index: 1;position: relative;background-color: white;}#sk-container-id-7 div.sk-parallel-item:first-child::after {align-self: flex-end;width: 50%;}#sk-container-id-7 div.sk-parallel-item:last-child::after {align-self: flex-start;width: 50%;}#sk-container-id-7 div.sk-parallel-item:only-child::after {width: 0;}#sk-container-id-7 div.sk-dashed-wrapped {border: 1px dashed gray;margin: 0 0.4em 0.5em 0.4em;box-sizing: border-box;padding-bottom: 0.4em;background-color: white;}#sk-container-id-7 div.sk-label label {font-family: monospace;font-weight: bold;display: inline-block;line-height: 1.2em;}#sk-container-id-7 div.sk-label-container {text-align: center;}#sk-container-id-7 div.sk-container {/* jupyter's `normalize.less` sets `[hidden] { display: none; }` but bootstrap.min.css set `[hidden] { display: none !important; }` so we also need the `!important` here to be able to override the default hidden behavior on the sphinx rendered scikit-learn.org. See: https://github.com/scikit-learn/scikit-learn/issues/21755 */display: inline-block !important;position: relative;}#sk-container-id-7 div.sk-text-repr-fallback {display: none;}</style><div id=\"sk-container-id-7\" class=\"sk-top-container\"><div class=\"sk-text-repr-fallback\"><pre>SVC(random_state=42)</pre><b>In a Jupyter environment, please rerun this cell to show the HTML representation or trust the notebook. <br />On GitHub, the HTML representation is unable to render, please try loading this page with nbviewer.org.</b></div><div class=\"sk-container\" hidden><div class=\"sk-item\"><div class=\"sk-estimator sk-toggleable\"><input class=\"sk-toggleable__control sk-hidden--visually\" id=\"sk-estimator-id-7\" type=\"checkbox\" checked><label for=\"sk-estimator-id-7\" class=\"sk-toggleable__label sk-toggleable__label-arrow\">SVC</label><div class=\"sk-toggleable__content\"><pre>SVC(random_state=42)</pre></div></div></div></div></div>"
      ],
      "text/plain": [
       "SVC(random_state=42)"
      ]
     },
     "execution_count": 70,
     "metadata": {},
     "output_type": "execute_result"
    }
   ],
   "source": [
    "svm_model = SVC(random_state=42)\n",
    "svm_model.fit(X_train_scaled, y_train)"
   ]
  },
  {
   "cell_type": "code",
   "execution_count": 71,
   "id": "2701b91a-a5f1-46c4-8b56-17b0ebe7ab51",
   "metadata": {},
   "outputs": [],
   "source": [
    "y_pred_svm = svm_model.predict(X_test_scaled)"
   ]
  },
  {
   "cell_type": "code",
   "execution_count": 72,
   "id": "45b574e9-82d7-4f8a-b692-f7ecde9d794d",
   "metadata": {},
   "outputs": [
    {
     "data": {
      "text/plain": [
       "0.8174074074074074"
      ]
     },
     "execution_count": 72,
     "metadata": {},
     "output_type": "execute_result"
    }
   ],
   "source": [
    "accuracy_score(y_test, y_pred_svm)"
   ]
  },
  {
   "cell_type": "markdown",
   "id": "627ad732-7581-4862-8d6b-d8ae3a018556",
   "metadata": {},
   "source": [
    "15. Давайте попробуем применить другой тип модели.<br>\n",
    "Постройте KNN модель и оцените ее accuracy"
   ]
  },
  {
   "cell_type": "code",
   "execution_count": 73,
   "id": "763efacf-2d9a-47b2-9942-a84711795a0d",
   "metadata": {},
   "outputs": [
    {
     "data": {
      "text/html": [
       "<style>#sk-container-id-8 {color: black;}#sk-container-id-8 pre{padding: 0;}#sk-container-id-8 div.sk-toggleable {background-color: white;}#sk-container-id-8 label.sk-toggleable__label {cursor: pointer;display: block;width: 100%;margin-bottom: 0;padding: 0.3em;box-sizing: border-box;text-align: center;}#sk-container-id-8 label.sk-toggleable__label-arrow:before {content: \"▸\";float: left;margin-right: 0.25em;color: #696969;}#sk-container-id-8 label.sk-toggleable__label-arrow:hover:before {color: black;}#sk-container-id-8 div.sk-estimator:hover label.sk-toggleable__label-arrow:before {color: black;}#sk-container-id-8 div.sk-toggleable__content {max-height: 0;max-width: 0;overflow: hidden;text-align: left;background-color: #f0f8ff;}#sk-container-id-8 div.sk-toggleable__content pre {margin: 0.2em;color: black;border-radius: 0.25em;background-color: #f0f8ff;}#sk-container-id-8 input.sk-toggleable__control:checked~div.sk-toggleable__content {max-height: 200px;max-width: 100%;overflow: auto;}#sk-container-id-8 input.sk-toggleable__control:checked~label.sk-toggleable__label-arrow:before {content: \"▾\";}#sk-container-id-8 div.sk-estimator input.sk-toggleable__control:checked~label.sk-toggleable__label {background-color: #d4ebff;}#sk-container-id-8 div.sk-label input.sk-toggleable__control:checked~label.sk-toggleable__label {background-color: #d4ebff;}#sk-container-id-8 input.sk-hidden--visually {border: 0;clip: rect(1px 1px 1px 1px);clip: rect(1px, 1px, 1px, 1px);height: 1px;margin: -1px;overflow: hidden;padding: 0;position: absolute;width: 1px;}#sk-container-id-8 div.sk-estimator {font-family: monospace;background-color: #f0f8ff;border: 1px dotted black;border-radius: 0.25em;box-sizing: border-box;margin-bottom: 0.5em;}#sk-container-id-8 div.sk-estimator:hover {background-color: #d4ebff;}#sk-container-id-8 div.sk-parallel-item::after {content: \"\";width: 100%;border-bottom: 1px solid gray;flex-grow: 1;}#sk-container-id-8 div.sk-label:hover label.sk-toggleable__label {background-color: #d4ebff;}#sk-container-id-8 div.sk-serial::before {content: \"\";position: absolute;border-left: 1px solid gray;box-sizing: border-box;top: 0;bottom: 0;left: 50%;z-index: 0;}#sk-container-id-8 div.sk-serial {display: flex;flex-direction: column;align-items: center;background-color: white;padding-right: 0.2em;padding-left: 0.2em;position: relative;}#sk-container-id-8 div.sk-item {position: relative;z-index: 1;}#sk-container-id-8 div.sk-parallel {display: flex;align-items: stretch;justify-content: center;background-color: white;position: relative;}#sk-container-id-8 div.sk-item::before, #sk-container-id-8 div.sk-parallel-item::before {content: \"\";position: absolute;border-left: 1px solid gray;box-sizing: border-box;top: 0;bottom: 0;left: 50%;z-index: -1;}#sk-container-id-8 div.sk-parallel-item {display: flex;flex-direction: column;z-index: 1;position: relative;background-color: white;}#sk-container-id-8 div.sk-parallel-item:first-child::after {align-self: flex-end;width: 50%;}#sk-container-id-8 div.sk-parallel-item:last-child::after {align-self: flex-start;width: 50%;}#sk-container-id-8 div.sk-parallel-item:only-child::after {width: 0;}#sk-container-id-8 div.sk-dashed-wrapped {border: 1px dashed gray;margin: 0 0.4em 0.5em 0.4em;box-sizing: border-box;padding-bottom: 0.4em;background-color: white;}#sk-container-id-8 div.sk-label label {font-family: monospace;font-weight: bold;display: inline-block;line-height: 1.2em;}#sk-container-id-8 div.sk-label-container {text-align: center;}#sk-container-id-8 div.sk-container {/* jupyter's `normalize.less` sets `[hidden] { display: none; }` but bootstrap.min.css set `[hidden] { display: none !important; }` so we also need the `!important` here to be able to override the default hidden behavior on the sphinx rendered scikit-learn.org. See: https://github.com/scikit-learn/scikit-learn/issues/21755 */display: inline-block !important;position: relative;}#sk-container-id-8 div.sk-text-repr-fallback {display: none;}</style><div id=\"sk-container-id-8\" class=\"sk-top-container\"><div class=\"sk-text-repr-fallback\"><pre>KNeighborsClassifier()</pre><b>In a Jupyter environment, please rerun this cell to show the HTML representation or trust the notebook. <br />On GitHub, the HTML representation is unable to render, please try loading this page with nbviewer.org.</b></div><div class=\"sk-container\" hidden><div class=\"sk-item\"><div class=\"sk-estimator sk-toggleable\"><input class=\"sk-toggleable__control sk-hidden--visually\" id=\"sk-estimator-id-8\" type=\"checkbox\" checked><label for=\"sk-estimator-id-8\" class=\"sk-toggleable__label sk-toggleable__label-arrow\">KNeighborsClassifier</label><div class=\"sk-toggleable__content\"><pre>KNeighborsClassifier()</pre></div></div></div></div></div>"
      ],
      "text/plain": [
       "KNeighborsClassifier()"
      ]
     },
     "execution_count": 73,
     "metadata": {},
     "output_type": "execute_result"
    }
   ],
   "source": [
    "knn_model = KNeighborsClassifier()\n",
    "knn_model.fit(X_train_scaled, y_train)"
   ]
  },
  {
   "cell_type": "code",
   "execution_count": 74,
   "id": "9ee092c9-abad-44c2-a472-f1517c1dfb7a",
   "metadata": {},
   "outputs": [],
   "source": [
    "y_pred_knn = knn_model.predict(X_test_scaled)"
   ]
  },
  {
   "cell_type": "code",
   "execution_count": 75,
   "id": "a46aa4e4-a838-4956-9e5b-7ef4fd35f49e",
   "metadata": {},
   "outputs": [
    {
     "data": {
      "text/plain": [
       "0.7040740740740741"
      ]
     },
     "execution_count": 75,
     "metadata": {},
     "output_type": "execute_result"
    }
   ],
   "source": [
    "accuracy_score(y_test, y_pred_knn)"
   ]
  },
  {
   "cell_type": "markdown",
   "id": "36aea534-3b3c-4d2e-84ec-ec39f38664b6",
   "metadata": {},
   "source": [
    "### Отправляем работы\n",
    "Ну чтож думаю вы попробовали разные модели, надеюсь вы находили лучшие гиперпараметры, ведь пора соревноваться в результатах.<br>\n",
    "Для этого вам нужно скачать 'test_dataset.csv'<br>\n",
    "Применить все преобразования что вы делали на стадии обучения модели<br>\n",
    "Выбрать вашу лучшую модель и сделать предсказания классов для этого датасета<br>\n",
    "Внимание ваш результат должен быть csv файлом состоящим из двух колонок: ID (от 0 до 999) и cat_target (ваши прогнозы 0/1/2)\n",
    "Отправить свои результаты вы можете на соревнование Kaggle по ссылке: https://www.kaggle.com/t/6fcb93642fe949aa9c6fb7875fb1b64e<br>\n"
   ]
  },
  {
   "cell_type": "code",
   "execution_count": 76,
   "id": "fb0a3e9b-1832-43c3-86ac-38b6543871ad",
   "metadata": {},
   "outputs": [],
   "source": [
    "test_dataset = pd.read_csv('test_dataset.csv')"
   ]
  },
  {
   "cell_type": "code",
   "execution_count": 77,
   "id": "892947fd",
   "metadata": {},
   "outputs": [
    {
     "data": {
      "text/html": [
       "<div>\n",
       "<style scoped>\n",
       "    .dataframe tbody tr th:only-of-type {\n",
       "        vertical-align: middle;\n",
       "    }\n",
       "\n",
       "    .dataframe tbody tr th {\n",
       "        vertical-align: top;\n",
       "    }\n",
       "\n",
       "    .dataframe thead th {\n",
       "        text-align: right;\n",
       "    }\n",
       "</style>\n",
       "<table border=\"1\" class=\"dataframe\">\n",
       "  <thead>\n",
       "    <tr style=\"text-align: right;\">\n",
       "      <th></th>\n",
       "      <th>feature_1</th>\n",
       "      <th>feature_2</th>\n",
       "      <th>feature_3</th>\n",
       "      <th>feature_4</th>\n",
       "      <th>feature_5</th>\n",
       "      <th>feature_6</th>\n",
       "      <th>feature_7</th>\n",
       "      <th>feature_8</th>\n",
       "      <th>feature_9</th>\n",
       "      <th>feature_10</th>\n",
       "      <th>feature_11</th>\n",
       "      <th>feature_12</th>\n",
       "      <th>feature_13</th>\n",
       "      <th>feature_14</th>\n",
       "      <th>feature_15</th>\n",
       "      <th>feature_16</th>\n",
       "      <th>feature_17</th>\n",
       "      <th>feature_18</th>\n",
       "      <th>feature_19</th>\n",
       "      <th>feature_20</th>\n",
       "    </tr>\n",
       "  </thead>\n",
       "  <tbody>\n",
       "    <tr>\n",
       "      <th>0</th>\n",
       "      <td>3.629075</td>\n",
       "      <td>0.817774</td>\n",
       "      <td>0.129687</td>\n",
       "      <td>6.219642</td>\n",
       "      <td>0.999992</td>\n",
       "      <td>-58.751555</td>\n",
       "      <td>13.170185</td>\n",
       "      <td>-2.265941</td>\n",
       "      <td>163.600359</td>\n",
       "      <td>-0.590149</td>\n",
       "      <td>1.724402</td>\n",
       "      <td>A</td>\n",
       "      <td>115.782973</td>\n",
       "      <td>102.383110</td>\n",
       "      <td>75.750290</td>\n",
       "      <td>82.670555</td>\n",
       "      <td>88.398872</td>\n",
       "      <td>78.034384</td>\n",
       "      <td>124.881643</td>\n",
       "      <td>130.904343</td>\n",
       "    </tr>\n",
       "    <tr>\n",
       "      <th>1</th>\n",
       "      <td>-23.283759</td>\n",
       "      <td>-0.086293</td>\n",
       "      <td>0.508258</td>\n",
       "      <td>-9.114238</td>\n",
       "      <td>-1.000000</td>\n",
       "      <td>39.000794</td>\n",
       "      <td>542.133433</td>\n",
       "      <td>3.903423</td>\n",
       "      <td>-35.206871</td>\n",
       "      <td>0.184453</td>\n",
       "      <td>0.352388</td>\n",
       "      <td>D</td>\n",
       "      <td>110.274900</td>\n",
       "      <td>82.267629</td>\n",
       "      <td>98.946475</td>\n",
       "      <td>93.449254</td>\n",
       "      <td>80.750636</td>\n",
       "      <td>70.362057</td>\n",
       "      <td>118.437830</td>\n",
       "      <td>88.459522</td>\n",
       "    </tr>\n",
       "    <tr>\n",
       "      <th>2</th>\n",
       "      <td>2.842355</td>\n",
       "      <td>-0.987547</td>\n",
       "      <td>1.525673</td>\n",
       "      <td>-10.430008</td>\n",
       "      <td>-1.000000</td>\n",
       "      <td>-92.206528</td>\n",
       "      <td>8.078982</td>\n",
       "      <td>0.329318</td>\n",
       "      <td>-180.770230</td>\n",
       "      <td>-0.204815</td>\n",
       "      <td>-0.648555</td>\n",
       "      <td>B</td>\n",
       "      <td>93.094432</td>\n",
       "      <td>91.407737</td>\n",
       "      <td>105.507571</td>\n",
       "      <td>135.199911</td>\n",
       "      <td>101.494074</td>\n",
       "      <td>105.644610</td>\n",
       "      <td>101.121831</td>\n",
       "      <td>93.372128</td>\n",
       "    </tr>\n",
       "    <tr>\n",
       "      <th>3</th>\n",
       "      <td>-22.069979</td>\n",
       "      <td>-0.158082</td>\n",
       "      <td>7.572780</td>\n",
       "      <td>3.447535</td>\n",
       "      <td>0.997977</td>\n",
       "      <td>-173.333256</td>\n",
       "      <td>487.083984</td>\n",
       "      <td>2.533396</td>\n",
       "      <td>-146.763360</td>\n",
       "      <td>-1.238702</td>\n",
       "      <td>-0.072297</td>\n",
       "      <td>B</td>\n",
       "      <td>137.142645</td>\n",
       "      <td>109.992174</td>\n",
       "      <td>80.176218</td>\n",
       "      <td>142.513692</td>\n",
       "      <td>127.017116</td>\n",
       "      <td>88.508838</td>\n",
       "      <td>118.327166</td>\n",
       "      <td>91.573769</td>\n",
       "    </tr>\n",
       "    <tr>\n",
       "      <th>4</th>\n",
       "      <td>-7.702941</td>\n",
       "      <td>0.421435</td>\n",
       "      <td>0.407912</td>\n",
       "      <td>-6.168170</td>\n",
       "      <td>-0.999991</td>\n",
       "      <td>84.132138</td>\n",
       "      <td>59.335303</td>\n",
       "      <td>-1.125035</td>\n",
       "      <td>153.894943</td>\n",
       "      <td>-0.039970</td>\n",
       "      <td>-2.440906</td>\n",
       "      <td>B</td>\n",
       "      <td>130.685865</td>\n",
       "      <td>92.336227</td>\n",
       "      <td>95.847169</td>\n",
       "      <td>114.405540</td>\n",
       "      <td>117.925669</td>\n",
       "      <td>115.024795</td>\n",
       "      <td>104.837486</td>\n",
       "      <td>115.718165</td>\n",
       "    </tr>\n",
       "  </tbody>\n",
       "</table>\n",
       "</div>"
      ],
      "text/plain": [
       "   feature_1  feature_2  feature_3  feature_4  feature_5   feature_6  \\\n",
       "0   3.629075   0.817774   0.129687   6.219642   0.999992  -58.751555   \n",
       "1 -23.283759  -0.086293   0.508258  -9.114238  -1.000000   39.000794   \n",
       "2   2.842355  -0.987547   1.525673 -10.430008  -1.000000  -92.206528   \n",
       "3 -22.069979  -0.158082   7.572780   3.447535   0.997977 -173.333256   \n",
       "4  -7.702941   0.421435   0.407912  -6.168170  -0.999991   84.132138   \n",
       "\n",
       "    feature_7  feature_8   feature_9  feature_10  feature_11 feature_12  \\\n",
       "0   13.170185  -2.265941  163.600359   -0.590149    1.724402          A   \n",
       "1  542.133433   3.903423  -35.206871    0.184453    0.352388          D   \n",
       "2    8.078982   0.329318 -180.770230   -0.204815   -0.648555          B   \n",
       "3  487.083984   2.533396 -146.763360   -1.238702   -0.072297          B   \n",
       "4   59.335303  -1.125035  153.894943   -0.039970   -2.440906          B   \n",
       "\n",
       "   feature_13  feature_14  feature_15  feature_16  feature_17  feature_18  \\\n",
       "0  115.782973  102.383110   75.750290   82.670555   88.398872   78.034384   \n",
       "1  110.274900   82.267629   98.946475   93.449254   80.750636   70.362057   \n",
       "2   93.094432   91.407737  105.507571  135.199911  101.494074  105.644610   \n",
       "3  137.142645  109.992174   80.176218  142.513692  127.017116   88.508838   \n",
       "4  130.685865   92.336227   95.847169  114.405540  117.925669  115.024795   \n",
       "\n",
       "   feature_19  feature_20  \n",
       "0  124.881643  130.904343  \n",
       "1  118.437830   88.459522  \n",
       "2  101.121831   93.372128  \n",
       "3  118.327166   91.573769  \n",
       "4  104.837486  115.718165  "
      ]
     },
     "execution_count": 77,
     "metadata": {},
     "output_type": "execute_result"
    }
   ],
   "source": [
    "test_dataset.head()"
   ]
  },
  {
   "cell_type": "code",
   "execution_count": 79,
   "id": "6a31e644",
   "metadata": {},
   "outputs": [
    {
     "data": {
      "text/html": [
       "<div>\n",
       "<style scoped>\n",
       "    .dataframe tbody tr th:only-of-type {\n",
       "        vertical-align: middle;\n",
       "    }\n",
       "\n",
       "    .dataframe tbody tr th {\n",
       "        vertical-align: top;\n",
       "    }\n",
       "\n",
       "    .dataframe thead th {\n",
       "        text-align: right;\n",
       "    }\n",
       "</style>\n",
       "<table border=\"1\" class=\"dataframe\">\n",
       "  <thead>\n",
       "    <tr style=\"text-align: right;\">\n",
       "      <th></th>\n",
       "      <th>feature_1</th>\n",
       "      <th>feature_2</th>\n",
       "      <th>feature_3</th>\n",
       "      <th>feature_4</th>\n",
       "      <th>feature_5</th>\n",
       "      <th>feature_6</th>\n",
       "      <th>feature_7</th>\n",
       "      <th>feature_8</th>\n",
       "      <th>feature_9</th>\n",
       "      <th>feature_10</th>\n",
       "      <th>...</th>\n",
       "      <th>feature_15</th>\n",
       "      <th>feature_16</th>\n",
       "      <th>feature_17</th>\n",
       "      <th>feature_18</th>\n",
       "      <th>feature_19</th>\n",
       "      <th>feature_20</th>\n",
       "      <th>feature_12_A</th>\n",
       "      <th>feature_12_B</th>\n",
       "      <th>feature_12_C</th>\n",
       "      <th>feature_12_D</th>\n",
       "    </tr>\n",
       "  </thead>\n",
       "  <tbody>\n",
       "    <tr>\n",
       "      <th>0</th>\n",
       "      <td>3.629075</td>\n",
       "      <td>0.817774</td>\n",
       "      <td>0.129687</td>\n",
       "      <td>6.219642</td>\n",
       "      <td>0.999992</td>\n",
       "      <td>-58.751555</td>\n",
       "      <td>13.170185</td>\n",
       "      <td>-2.265941</td>\n",
       "      <td>163.600359</td>\n",
       "      <td>-0.590149</td>\n",
       "      <td>...</td>\n",
       "      <td>75.750290</td>\n",
       "      <td>82.670555</td>\n",
       "      <td>88.398872</td>\n",
       "      <td>78.034384</td>\n",
       "      <td>124.881643</td>\n",
       "      <td>130.904343</td>\n",
       "      <td>True</td>\n",
       "      <td>False</td>\n",
       "      <td>False</td>\n",
       "      <td>False</td>\n",
       "    </tr>\n",
       "    <tr>\n",
       "      <th>1</th>\n",
       "      <td>-23.283759</td>\n",
       "      <td>-0.086293</td>\n",
       "      <td>0.508258</td>\n",
       "      <td>-9.114238</td>\n",
       "      <td>-1.000000</td>\n",
       "      <td>39.000794</td>\n",
       "      <td>542.133433</td>\n",
       "      <td>3.903423</td>\n",
       "      <td>-35.206871</td>\n",
       "      <td>0.184453</td>\n",
       "      <td>...</td>\n",
       "      <td>98.946475</td>\n",
       "      <td>93.449254</td>\n",
       "      <td>80.750636</td>\n",
       "      <td>70.362057</td>\n",
       "      <td>118.437830</td>\n",
       "      <td>88.459522</td>\n",
       "      <td>False</td>\n",
       "      <td>False</td>\n",
       "      <td>False</td>\n",
       "      <td>True</td>\n",
       "    </tr>\n",
       "    <tr>\n",
       "      <th>2</th>\n",
       "      <td>2.842355</td>\n",
       "      <td>-0.987547</td>\n",
       "      <td>1.525673</td>\n",
       "      <td>-10.430008</td>\n",
       "      <td>-1.000000</td>\n",
       "      <td>-92.206528</td>\n",
       "      <td>8.078982</td>\n",
       "      <td>0.329318</td>\n",
       "      <td>-180.770230</td>\n",
       "      <td>-0.204815</td>\n",
       "      <td>...</td>\n",
       "      <td>105.507571</td>\n",
       "      <td>135.199911</td>\n",
       "      <td>101.494074</td>\n",
       "      <td>105.644610</td>\n",
       "      <td>101.121831</td>\n",
       "      <td>93.372128</td>\n",
       "      <td>False</td>\n",
       "      <td>True</td>\n",
       "      <td>False</td>\n",
       "      <td>False</td>\n",
       "    </tr>\n",
       "    <tr>\n",
       "      <th>3</th>\n",
       "      <td>-22.069979</td>\n",
       "      <td>-0.158082</td>\n",
       "      <td>7.572780</td>\n",
       "      <td>3.447535</td>\n",
       "      <td>0.997977</td>\n",
       "      <td>-173.333256</td>\n",
       "      <td>487.083984</td>\n",
       "      <td>2.533396</td>\n",
       "      <td>-146.763360</td>\n",
       "      <td>-1.238702</td>\n",
       "      <td>...</td>\n",
       "      <td>80.176218</td>\n",
       "      <td>142.513692</td>\n",
       "      <td>127.017116</td>\n",
       "      <td>88.508838</td>\n",
       "      <td>118.327166</td>\n",
       "      <td>91.573769</td>\n",
       "      <td>False</td>\n",
       "      <td>True</td>\n",
       "      <td>False</td>\n",
       "      <td>False</td>\n",
       "    </tr>\n",
       "    <tr>\n",
       "      <th>4</th>\n",
       "      <td>-7.702941</td>\n",
       "      <td>0.421435</td>\n",
       "      <td>0.407912</td>\n",
       "      <td>-6.168170</td>\n",
       "      <td>-0.999991</td>\n",
       "      <td>84.132138</td>\n",
       "      <td>59.335303</td>\n",
       "      <td>-1.125035</td>\n",
       "      <td>153.894943</td>\n",
       "      <td>-0.039970</td>\n",
       "      <td>...</td>\n",
       "      <td>95.847169</td>\n",
       "      <td>114.405540</td>\n",
       "      <td>117.925669</td>\n",
       "      <td>115.024795</td>\n",
       "      <td>104.837486</td>\n",
       "      <td>115.718165</td>\n",
       "      <td>False</td>\n",
       "      <td>True</td>\n",
       "      <td>False</td>\n",
       "      <td>False</td>\n",
       "    </tr>\n",
       "  </tbody>\n",
       "</table>\n",
       "<p>5 rows × 23 columns</p>\n",
       "</div>"
      ],
      "text/plain": [
       "   feature_1  feature_2  feature_3  feature_4  feature_5   feature_6  \\\n",
       "0   3.629075   0.817774   0.129687   6.219642   0.999992  -58.751555   \n",
       "1 -23.283759  -0.086293   0.508258  -9.114238  -1.000000   39.000794   \n",
       "2   2.842355  -0.987547   1.525673 -10.430008  -1.000000  -92.206528   \n",
       "3 -22.069979  -0.158082   7.572780   3.447535   0.997977 -173.333256   \n",
       "4  -7.702941   0.421435   0.407912  -6.168170  -0.999991   84.132138   \n",
       "\n",
       "    feature_7  feature_8   feature_9  feature_10  ...  feature_15  feature_16  \\\n",
       "0   13.170185  -2.265941  163.600359   -0.590149  ...   75.750290   82.670555   \n",
       "1  542.133433   3.903423  -35.206871    0.184453  ...   98.946475   93.449254   \n",
       "2    8.078982   0.329318 -180.770230   -0.204815  ...  105.507571  135.199911   \n",
       "3  487.083984   2.533396 -146.763360   -1.238702  ...   80.176218  142.513692   \n",
       "4   59.335303  -1.125035  153.894943   -0.039970  ...   95.847169  114.405540   \n",
       "\n",
       "   feature_17  feature_18  feature_19  feature_20  feature_12_A  feature_12_B  \\\n",
       "0   88.398872   78.034384  124.881643  130.904343          True         False   \n",
       "1   80.750636   70.362057  118.437830   88.459522         False         False   \n",
       "2  101.494074  105.644610  101.121831   93.372128         False          True   \n",
       "3  127.017116   88.508838  118.327166   91.573769         False          True   \n",
       "4  117.925669  115.024795  104.837486  115.718165         False          True   \n",
       "\n",
       "   feature_12_C  feature_12_D  \n",
       "0         False         False  \n",
       "1         False          True  \n",
       "2         False         False  \n",
       "3         False         False  \n",
       "4         False         False  \n",
       "\n",
       "[5 rows x 23 columns]"
      ]
     },
     "execution_count": 79,
     "metadata": {},
     "output_type": "execute_result"
    }
   ],
   "source": [
    "encoded = pd.get_dummies(test_dataset, columns=['feature_12'])\n",
    "encoded.head()"
   ]
  },
  {
   "cell_type": "code",
   "execution_count": 80,
   "id": "0f14f2eb",
   "metadata": {},
   "outputs": [],
   "source": [
    "scaled = scaler.fit_transform(encoded.drop(['feature_12_A', 'feature_12_B', 'feature_12_C', 'feature_12_D'], axis=1))\n",
    "scaled = pd.DataFrame(scaled, columns = encoded.drop(['feature_12_A', 'feature_12_B', 'feature_12_C', 'feature_12_D'], axis=1).columns)"
   ]
  },
  {
   "cell_type": "code",
   "execution_count": 81,
   "id": "6dead8dc",
   "metadata": {},
   "outputs": [],
   "source": [
    "dataset = pd.concat([scaled, encoded[['feature_12_A', 'feature_12_B', 'feature_12_C', 'feature_12_D']]], axis=1)"
   ]
  },
  {
   "cell_type": "code",
   "execution_count": 102,
   "id": "1d3934dd",
   "metadata": {},
   "outputs": [
    {
     "name": "stderr",
     "output_type": "stream",
     "text": [
      "C:\\Users\\user\\anaconda3\\Lib\\site-packages\\sklearn\\base.py:457: UserWarning: X has feature names, but SVC was fitted without feature names\n",
      "  warnings.warn(\n"
     ]
    }
   ],
   "source": [
    "predictions = svm_model.predict(dataset)"
   ]
  },
  {
   "cell_type": "code",
   "execution_count": 103,
   "id": "187dd34c",
   "metadata": {},
   "outputs": [],
   "source": [
    "map_dict = {'Высокодоходный': 2, 'Средний класс': 1, 'Низкодоходный': 0}"
   ]
  },
  {
   "cell_type": "code",
   "execution_count": 104,
   "id": "f20112e2",
   "metadata": {},
   "outputs": [],
   "source": [
    "arr_numeric = np.where(predictions == 'Высокодоходный', 2, \n",
    "              np.where(predictions == 'Средний класс', 1, \n",
    "                       np.where(predictions == 'Низкодоходный', 0, predictions)))"
   ]
  },
  {
   "cell_type": "code",
   "execution_count": 105,
   "id": "e6d3d43e",
   "metadata": {},
   "outputs": [
    {
     "data": {
      "text/html": [
       "<div>\n",
       "<style scoped>\n",
       "    .dataframe tbody tr th:only-of-type {\n",
       "        vertical-align: middle;\n",
       "    }\n",
       "\n",
       "    .dataframe tbody tr th {\n",
       "        vertical-align: top;\n",
       "    }\n",
       "\n",
       "    .dataframe thead th {\n",
       "        text-align: right;\n",
       "    }\n",
       "</style>\n",
       "<table border=\"1\" class=\"dataframe\">\n",
       "  <thead>\n",
       "    <tr style=\"text-align: right;\">\n",
       "      <th></th>\n",
       "      <th>ID</th>\n",
       "      <th>cat_target</th>\n",
       "    </tr>\n",
       "  </thead>\n",
       "  <tbody>\n",
       "    <tr>\n",
       "      <th>0</th>\n",
       "      <td>0</td>\n",
       "      <td>2</td>\n",
       "    </tr>\n",
       "    <tr>\n",
       "      <th>1</th>\n",
       "      <td>1</td>\n",
       "      <td>1</td>\n",
       "    </tr>\n",
       "    <tr>\n",
       "      <th>2</th>\n",
       "      <td>2</td>\n",
       "      <td>0</td>\n",
       "    </tr>\n",
       "    <tr>\n",
       "      <th>3</th>\n",
       "      <td>3</td>\n",
       "      <td>1</td>\n",
       "    </tr>\n",
       "    <tr>\n",
       "      <th>4</th>\n",
       "      <td>4</td>\n",
       "      <td>2</td>\n",
       "    </tr>\n",
       "  </tbody>\n",
       "</table>\n",
       "</div>"
      ],
      "text/plain": [
       "   ID cat_target\n",
       "0   0          2\n",
       "1   1          1\n",
       "2   2          0\n",
       "3   3          1\n",
       "4   4          2"
      ]
     },
     "execution_count": 105,
     "metadata": {},
     "output_type": "execute_result"
    }
   ],
   "source": [
    "results = pd.DataFrame({\n",
    "    'ID': test_dataset.index,\n",
    "    'cat_target': arr_numeric })\n",
    "results.head()"
   ]
  },
  {
   "cell_type": "code",
   "execution_count": 106,
   "id": "148f4bce",
   "metadata": {},
   "outputs": [],
   "source": [
    "results.to_csv('path_to_save_predictions.csv', index=False)"
   ]
  },
  {
   "cell_type": "code",
   "execution_count": null,
   "id": "fad914b5",
   "metadata": {},
   "outputs": [],
   "source": []
  },
  {
   "cell_type": "code",
   "execution_count": null,
   "id": "12f8b7a5",
   "metadata": {},
   "outputs": [],
   "source": []
  },
  {
   "cell_type": "code",
   "execution_count": null,
   "id": "6403db56",
   "metadata": {},
   "outputs": [],
   "source": []
  },
  {
   "cell_type": "code",
   "execution_count": null,
   "id": "1a8a112e",
   "metadata": {},
   "outputs": [],
   "source": []
  },
  {
   "cell_type": "code",
   "execution_count": null,
   "id": "253b6113",
   "metadata": {},
   "outputs": [],
   "source": []
  },
  {
   "cell_type": "code",
   "execution_count": null,
   "id": "bbd4a7c6",
   "metadata": {},
   "outputs": [],
   "source": []
  },
  {
   "cell_type": "code",
   "execution_count": null,
   "id": "1afd7484",
   "metadata": {},
   "outputs": [],
   "source": []
  },
  {
   "cell_type": "code",
   "execution_count": null,
   "id": "5e295971",
   "metadata": {},
   "outputs": [],
   "source": []
  },
  {
   "cell_type": "code",
   "execution_count": null,
   "id": "87dffda1",
   "metadata": {},
   "outputs": [],
   "source": []
  },
  {
   "cell_type": "code",
   "execution_count": null,
   "id": "d0ba05ae",
   "metadata": {},
   "outputs": [],
   "source": []
  },
  {
   "cell_type": "code",
   "execution_count": null,
   "id": "0ede33e3",
   "metadata": {},
   "outputs": [],
   "source": []
  },
  {
   "cell_type": "code",
   "execution_count": null,
   "id": "c50dd38f",
   "metadata": {},
   "outputs": [],
   "source": []
  },
  {
   "cell_type": "code",
   "execution_count": null,
   "id": "b399b643",
   "metadata": {},
   "outputs": [],
   "source": []
  },
  {
   "cell_type": "code",
   "execution_count": null,
   "id": "d4ffd8e0",
   "metadata": {},
   "outputs": [],
   "source": []
  },
  {
   "cell_type": "code",
   "execution_count": null,
   "id": "c7729d66",
   "metadata": {},
   "outputs": [],
   "source": []
  },
  {
   "cell_type": "code",
   "execution_count": null,
   "id": "ce560eb8",
   "metadata": {},
   "outputs": [],
   "source": []
  },
  {
   "cell_type": "code",
   "execution_count": null,
   "id": "a4e329c2",
   "metadata": {},
   "outputs": [],
   "source": []
  },
  {
   "cell_type": "code",
   "execution_count": null,
   "id": "e7a66c03",
   "metadata": {},
   "outputs": [],
   "source": []
  },
  {
   "cell_type": "code",
   "execution_count": null,
   "id": "c7d526a8",
   "metadata": {},
   "outputs": [],
   "source": []
  },
  {
   "cell_type": "code",
   "execution_count": null,
   "id": "0dcc7dc4",
   "metadata": {},
   "outputs": [],
   "source": []
  },
  {
   "cell_type": "code",
   "execution_count": null,
   "id": "98722343",
   "metadata": {},
   "outputs": [],
   "source": []
  },
  {
   "cell_type": "code",
   "execution_count": null,
   "id": "336152bb",
   "metadata": {},
   "outputs": [],
   "source": []
  },
  {
   "cell_type": "code",
   "execution_count": null,
   "id": "33d0d523",
   "metadata": {},
   "outputs": [],
   "source": []
  },
  {
   "cell_type": "code",
   "execution_count": null,
   "id": "01942a09",
   "metadata": {},
   "outputs": [],
   "source": []
  },
  {
   "cell_type": "code",
   "execution_count": null,
   "id": "b59af3cd",
   "metadata": {},
   "outputs": [],
   "source": []
  },
  {
   "cell_type": "code",
   "execution_count": null,
   "id": "47e38bad",
   "metadata": {},
   "outputs": [],
   "source": []
  }
 ],
 "metadata": {
  "kernelspec": {
   "display_name": "Python 3 (ipykernel)",
   "language": "python",
   "name": "python3"
  },
  "language_info": {
   "codemirror_mode": {
    "name": "ipython",
    "version": 3
   },
   "file_extension": ".py",
   "mimetype": "text/x-python",
   "name": "python",
   "nbconvert_exporter": "python",
   "pygments_lexer": "ipython3",
   "version": "3.11.5"
  }
 },
 "nbformat": 4,
 "nbformat_minor": 5
}
