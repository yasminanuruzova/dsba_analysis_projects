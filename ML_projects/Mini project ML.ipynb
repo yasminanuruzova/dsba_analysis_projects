{
 "cells": [
  {
   "cell_type": "markdown",
   "id": "f00dac6c",
   "metadata": {},
   "source": [
    "# Прогнозирование цены"
   ]
  },
  {
   "cell_type": "markdown",
   "id": "c2087389",
   "metadata": {},
   "source": [
    "### Задача\n",
    "Целевая переменная — `price`. У вас есть 7 атрибутов, и, очевидно, мы хотим, чтобы вы построили некую модель машинного обучения, которая прогнозирует цены.\n",
    "\n",
    "1. Проведите первоначальный анализ данных, который укажет на то, как связаны атрибуты.\n",
    "2. Используйте некоторые ML модели и кратко объясните свой выбор.\n",
    "3. Покажите точность вашей модели и прокомментируйте результаты.\n",
    "4. Представьте нам результаты и шаги, которые вы предприняли, а также некоторые критические размышления."
   ]
  },
  {
   "cell_type": "markdown",
   "id": "88cfe8db",
   "metadata": {},
   "source": [
    "### Описание данных\n",
    "Данные представлены в файле `sample.csv`."
   ]
  },
  {
   "cell_type": "markdown",
   "id": "b1071d95",
   "metadata": {},
   "source": [
    "### Комментарии\n",
    "\n",
    "Определите, обучите и оцените прогнозирующую модель, которая принимает в качестве входных данных предоставленные данные. По вашему усмотрению вы можете разделить данные на наборы для обучения, тестирования. Вы можете использовать любой алгоритм по вашему выбору или сравнить несколько моделей.\n",
    "\n",
    "Убедитесь, что решение отражает весь ваш мыслительный процесс (для каждой ячейки кода оставляйте комментарии, иначе мы не поймем, что вы хотели сделать)\n",
    "\n",
    "### Что мы точно хотим увидеть в вашей работе?\n",
    "\n",
    "1. **Обработка данных**: Это критически важный первый шаг, который включает в себя очистку данных, обработку пропущенных значений и преобразование категориальных данных в числовой формат. Эффективная обработка данных может значительно улучшить качество модели.\n",
    "\n",
    "2. **Проверка выбросов и корреляций**: Удаление выбросов и обработка коррелирующих признаков помогают уменьшить шум в данных и избежать проблемы мультиколлинеарности, которая может негативно сказаться на производительности модели.\n",
    "\n",
    "3. **Feature Selection (Выбор признаков)**: Отбор признаков, которые наиболее сильно коррелируют с целевой переменной, позволяет сократить размерность данных без значительной потери информации, что упрощает модель и может улучшить её производительность.\n",
    "\n",
    "4. **Проверка всех подходящих моделей**: Тестирование различных моделей и оценка их производительности на тренировочных и тестовых данных по критериям MSE (Mean Squared Error) и R2 позволяют выбрать наиболее подходящую модель для задачи.\n",
    "\n",
    "5. **GridSearchCV для выбора гиперпараметров**: Использование GridSearchCV для автоматического перебора комбинаций гиперпараметров и выбора лучшего набора значений помогает оптимизировать модель.\n",
    "\n",
    "6. **Использование StandardScaler и MinMaxScaler**: Масштабирование признаков с помощью StandardScaler (преобразование данных к стандартному нормальному распределению) и MinMaxScaler (масштабирование данных в заданный диапазон) может быть полезно для некоторых алгоритмов, чтобы улучшить их производительность, особенно для тех, которые чувствительны к масштабу признаков, как, например, методы, основанные на градиентном спуске.\n",
    "\n",
    "Этот процесс является итеративным и может требовать нескольких проходов с корректировкой подхода на основе полученных результатов, чтобы достигнуть оптимальной производительности модели."
   ]
  },
  {
   "cell_type": "code",
   "execution_count": 1,
   "id": "30f47f99",
   "metadata": {},
   "outputs": [],
   "source": [
    "import pandas as pd\n",
    "from sklearn.model_selection import train_test_split\n",
    "from sklearn.preprocessing import MinMaxScaler, StandardScaler\n",
    "from sklearn.linear_model import LinearRegression\n",
    "from sklearn.ensemble import RandomForestRegressor, GradientBoostingRegressor\n",
    "from sklearn.metrics import mean_squared_error, r2_score\n",
    "from sklearn.model_selection import GridSearchCV"
   ]
  },
  {
   "cell_type": "markdown",
   "id": "343857f2",
   "metadata": {},
   "source": [
    "#### Для моделирования мы можем выбрать несколько моделей, таких как линейная регрессия, случайный лес и градиентный бустинг. Линейная регрессия подходит для простых линейных отношений между признаками и целевой переменной. Случайный лес и градиентный бустинг могут захватывать более сложные взаимосвязи и нелинейные зависимости."
   ]
  },
  {
   "cell_type": "code",
   "execution_count": 2,
   "id": "297d60d4",
   "metadata": {},
   "outputs": [],
   "source": [
    "data = pd.read_csv('sample.csv')\n",
    "# Преобразование категориальных переменных в числовой формат (для дня недели)\n",
    "data = pd.get_dummies(data)\n",
    "\n",
    "x = data.drop(columns=['price'])\n",
    "y = data['price']\n",
    "# поделим на тренировочную и тестовую выборки\n",
    "x_tr, x_t, y_tr, y_t = train_test_split(x, y, test_size=0.3, random_state=105)"
   ]
  },
  {
   "cell_type": "code",
   "execution_count": 3,
   "id": "015da6d5",
   "metadata": {},
   "outputs": [],
   "source": [
    "scaler = MinMaxScaler()\n",
    "x_tr_scaled_data = scaler.fit_transform(x_tr)\n",
    "x_tr_scaled = pd.DataFrame(x_tr_scaled_data, columns=x_tr.columns)\n",
    "\n",
    "x_t_scaled_data = scaler.transform(x_t)\n",
    "x_t_scaled = pd.DataFrame(x_t_scaled_data, columns=x_t.columns)"
   ]
  },
  {
   "cell_type": "code",
   "execution_count": 4,
   "id": "d94ace3b",
   "metadata": {},
   "outputs": [],
   "source": [
    "st_scaler = StandardScaler()\n",
    "X_train_scaled = scaler.fit_transform(x_tr)\n",
    "X_test_scaled = scaler.transform(x_t)"
   ]
  },
  {
   "cell_type": "code",
   "execution_count": 5,
   "id": "ae6187be",
   "metadata": {},
   "outputs": [
    {
     "data": {
      "text/html": [
       "<style>#sk-container-id-1 {color: black;}#sk-container-id-1 pre{padding: 0;}#sk-container-id-1 div.sk-toggleable {background-color: white;}#sk-container-id-1 label.sk-toggleable__label {cursor: pointer;display: block;width: 100%;margin-bottom: 0;padding: 0.3em;box-sizing: border-box;text-align: center;}#sk-container-id-1 label.sk-toggleable__label-arrow:before {content: \"▸\";float: left;margin-right: 0.25em;color: #696969;}#sk-container-id-1 label.sk-toggleable__label-arrow:hover:before {color: black;}#sk-container-id-1 div.sk-estimator:hover label.sk-toggleable__label-arrow:before {color: black;}#sk-container-id-1 div.sk-toggleable__content {max-height: 0;max-width: 0;overflow: hidden;text-align: left;background-color: #f0f8ff;}#sk-container-id-1 div.sk-toggleable__content pre {margin: 0.2em;color: black;border-radius: 0.25em;background-color: #f0f8ff;}#sk-container-id-1 input.sk-toggleable__control:checked~div.sk-toggleable__content {max-height: 200px;max-width: 100%;overflow: auto;}#sk-container-id-1 input.sk-toggleable__control:checked~label.sk-toggleable__label-arrow:before {content: \"▾\";}#sk-container-id-1 div.sk-estimator input.sk-toggleable__control:checked~label.sk-toggleable__label {background-color: #d4ebff;}#sk-container-id-1 div.sk-label input.sk-toggleable__control:checked~label.sk-toggleable__label {background-color: #d4ebff;}#sk-container-id-1 input.sk-hidden--visually {border: 0;clip: rect(1px 1px 1px 1px);clip: rect(1px, 1px, 1px, 1px);height: 1px;margin: -1px;overflow: hidden;padding: 0;position: absolute;width: 1px;}#sk-container-id-1 div.sk-estimator {font-family: monospace;background-color: #f0f8ff;border: 1px dotted black;border-radius: 0.25em;box-sizing: border-box;margin-bottom: 0.5em;}#sk-container-id-1 div.sk-estimator:hover {background-color: #d4ebff;}#sk-container-id-1 div.sk-parallel-item::after {content: \"\";width: 100%;border-bottom: 1px solid gray;flex-grow: 1;}#sk-container-id-1 div.sk-label:hover label.sk-toggleable__label {background-color: #d4ebff;}#sk-container-id-1 div.sk-serial::before {content: \"\";position: absolute;border-left: 1px solid gray;box-sizing: border-box;top: 0;bottom: 0;left: 50%;z-index: 0;}#sk-container-id-1 div.sk-serial {display: flex;flex-direction: column;align-items: center;background-color: white;padding-right: 0.2em;padding-left: 0.2em;position: relative;}#sk-container-id-1 div.sk-item {position: relative;z-index: 1;}#sk-container-id-1 div.sk-parallel {display: flex;align-items: stretch;justify-content: center;background-color: white;position: relative;}#sk-container-id-1 div.sk-item::before, #sk-container-id-1 div.sk-parallel-item::before {content: \"\";position: absolute;border-left: 1px solid gray;box-sizing: border-box;top: 0;bottom: 0;left: 50%;z-index: -1;}#sk-container-id-1 div.sk-parallel-item {display: flex;flex-direction: column;z-index: 1;position: relative;background-color: white;}#sk-container-id-1 div.sk-parallel-item:first-child::after {align-self: flex-end;width: 50%;}#sk-container-id-1 div.sk-parallel-item:last-child::after {align-self: flex-start;width: 50%;}#sk-container-id-1 div.sk-parallel-item:only-child::after {width: 0;}#sk-container-id-1 div.sk-dashed-wrapped {border: 1px dashed gray;margin: 0 0.4em 0.5em 0.4em;box-sizing: border-box;padding-bottom: 0.4em;background-color: white;}#sk-container-id-1 div.sk-label label {font-family: monospace;font-weight: bold;display: inline-block;line-height: 1.2em;}#sk-container-id-1 div.sk-label-container {text-align: center;}#sk-container-id-1 div.sk-container {/* jupyter's `normalize.less` sets `[hidden] { display: none; }` but bootstrap.min.css set `[hidden] { display: none !important; }` so we also need the `!important` here to be able to override the default hidden behavior on the sphinx rendered scikit-learn.org. See: https://github.com/scikit-learn/scikit-learn/issues/21755 */display: inline-block !important;position: relative;}#sk-container-id-1 div.sk-text-repr-fallback {display: none;}</style><div id=\"sk-container-id-1\" class=\"sk-top-container\"><div class=\"sk-text-repr-fallback\"><pre>LinearRegression()</pre><b>In a Jupyter environment, please rerun this cell to show the HTML representation or trust the notebook. <br />On GitHub, the HTML representation is unable to render, please try loading this page with nbviewer.org.</b></div><div class=\"sk-container\" hidden><div class=\"sk-item\"><div class=\"sk-estimator sk-toggleable\"><input class=\"sk-toggleable__control sk-hidden--visually\" id=\"sk-estimator-id-1\" type=\"checkbox\" checked><label for=\"sk-estimator-id-1\" class=\"sk-toggleable__label sk-toggleable__label-arrow\">LinearRegression</label><div class=\"sk-toggleable__content\"><pre>LinearRegression()</pre></div></div></div></div></div>"
      ],
      "text/plain": [
       "LinearRegression()"
      ]
     },
     "execution_count": 5,
     "metadata": {},
     "output_type": "execute_result"
    }
   ],
   "source": [
    "model = LinearRegression()\n",
    "model.fit(X_train_scaled, y_tr)"
   ]
  },
  {
   "cell_type": "code",
   "execution_count": 6,
   "id": "4c12974b",
   "metadata": {},
   "outputs": [
    {
     "name": "stderr",
     "output_type": "stream",
     "text": [
      "C:\\Users\\user\\anaconda3\\Lib\\site-packages\\sklearn\\base.py:457: UserWarning: X has feature names, but LinearRegression was fitted without feature names\n",
      "  warnings.warn(\n"
     ]
    },
    {
     "data": {
      "text/plain": [
       "5.463210022976572e+26"
      ]
     },
     "execution_count": 6,
     "metadata": {},
     "output_type": "execute_result"
    }
   ],
   "source": [
    "y_pred = model.predict(x_t_scaled)\n",
    "mean_squared_error(y_t, y_pred)"
   ]
  },
  {
   "cell_type": "code",
   "execution_count": 7,
   "id": "c77531ae",
   "metadata": {},
   "outputs": [
    {
     "data": {
      "text/plain": [
       "-7.630830267009766e+21"
      ]
     },
     "execution_count": 7,
     "metadata": {},
     "output_type": "execute_result"
    }
   ],
   "source": [
    "r2_score(y_t, y_pred)"
   ]
  },
  {
   "cell_type": "code",
   "execution_count": null,
   "id": "0538ce94",
   "metadata": {},
   "outputs": [],
   "source": []
  },
  {
   "cell_type": "code",
   "execution_count": 8,
   "id": "04531408",
   "metadata": {},
   "outputs": [],
   "source": [
    "param_grid = {\n",
    "    'n_estimators': [50, 100, 200],\n",
    "    'max_depth': [None, 10, 20],\n",
    "    'min_samples_split': [2, 5, 10],\n",
    "    'min_samples_leaf': [1, 2, 4]}"
   ]
  },
  {
   "cell_type": "code",
   "execution_count": null,
   "id": "af6a446c",
   "metadata": {},
   "outputs": [],
   "source": [
    "reg_f = RandomForestRegressor(random_state=105)\n",
    "grid_search = GridSearchCV(reg_f, param_grid, cv=5, scoring='neg_mean_squared_error')\n",
    "grid_search.fit(X_train_scaled, y_tr)"
   ]
  },
  {
   "cell_type": "code",
   "execution_count": null,
   "id": "39156eea",
   "metadata": {},
   "outputs": [],
   "source": [
    "grid_search.best_params_"
   ]
  },
  {
   "cell_type": "code",
   "execution_count": null,
   "id": "d55a2ac3",
   "metadata": {},
   "outputs": [],
   "source": [
    "grid_search.best_score_"
   ]
  },
  {
   "cell_type": "code",
   "execution_count": null,
   "id": "cff9c91e",
   "metadata": {},
   "outputs": [],
   "source": []
  },
  {
   "cell_type": "code",
   "execution_count": null,
   "id": "7a4aa460",
   "metadata": {},
   "outputs": [],
   "source": []
  },
  {
   "cell_type": "code",
   "execution_count": null,
   "id": "a7b06da9",
   "metadata": {},
   "outputs": [],
   "source": []
  },
  {
   "cell_type": "code",
   "execution_count": null,
   "id": "6e739e6f",
   "metadata": {},
   "outputs": [],
   "source": []
  }
 ],
 "metadata": {
  "kernelspec": {
   "display_name": "Python 3 (ipykernel)",
   "language": "python",
   "name": "python3"
  },
  "language_info": {
   "codemirror_mode": {
    "name": "ipython",
    "version": 3
   },
   "file_extension": ".py",
   "mimetype": "text/x-python",
   "name": "python",
   "nbconvert_exporter": "python",
   "pygments_lexer": "ipython3",
   "version": "3.11.5"
  }
 },
 "nbformat": 4,
 "nbformat_minor": 5
}
